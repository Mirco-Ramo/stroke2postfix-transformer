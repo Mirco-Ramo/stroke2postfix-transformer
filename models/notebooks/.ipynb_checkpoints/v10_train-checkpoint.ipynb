{
 "cells": [
  {
   "cell_type": "code",
   "execution_count": 1,
   "metadata": {
    "executionInfo": {
     "elapsed": 2354,
     "status": "ok",
     "timestamp": 1664288148172,
     "user": {
      "displayName": "MIRCO RAMO",
      "userId": "02615844185003710625"
     },
     "user_tz": -60
    },
    "id": "8O1t-Cx8bvQI"
   },
   "outputs": [],
   "source": [
    "import os\n",
    "import sys\n",
    "import random\n",
    "import warnings\n",
    "import torch\n",
    "\n",
    "from pathlib import Path\n",
    "from IPython.display import SVG, display\n",
    "from IPython.core.display import HTML\n",
    "\n",
    "from torch.utils.data import DataLoader"
   ]
  },
  {
   "cell_type": "markdown",
   "metadata": {
    "id": "80xE4wAKbvQR"
   },
   "source": [
    "### Enable Hot Reload"
   ]
  },
  {
   "cell_type": "code",
   "execution_count": 2,
   "metadata": {
    "executionInfo": {
     "elapsed": 6,
     "status": "ok",
     "timestamp": 1664288148173,
     "user": {
      "displayName": "MIRCO RAMO",
      "userId": "02615844185003710625"
     },
     "user_tz": -60
    },
    "id": "Snik4oyubvQS"
   },
   "outputs": [],
   "source": [
    "%load_ext autoreload\n",
    "%autoreload 2"
   ]
  },
  {
   "cell_type": "markdown",
   "metadata": {
    "id": "J2sSP8WcbvQT"
   },
   "source": [
    "### Edit Python path\n",
    "Add the `models` directory to Python's `path`."
   ]
  },
  {
   "cell_type": "code",
   "execution_count": 3,
   "metadata": {
    "colab": {
     "base_uri": "https://localhost:8080/"
    },
    "executionInfo": {
     "elapsed": 479,
     "status": "ok",
     "timestamp": 1664288148646,
     "user": {
      "displayName": "MIRCO RAMO",
      "userId": "02615844185003710625"
     },
     "user_tz": -60
    },
    "id": "5HB7xdGfbvQU",
    "outputId": "ee5210cc-0722-41ac-88fb-ea5e88d04bae"
   },
   "outputs": [
    {
     "name": "stdout",
     "output_type": "stream",
     "text": [
      "I:\\My Drive\\master_thesis_experiments\\stroke2postfix-transformer\n"
     ]
    }
   ],
   "source": [
    "b_paths = [os.path.abspath(os.path.join('..', '..')), os.path.abspath(os.path.join('..')), os.path.abspath(os.path.join('..', 'scripts'))]\n",
    "for b_path in b_paths:\n",
    "    if b_path not in sys.path:\n",
    "        sys.path.append(b_path)\n",
    "\n",
    "BASE_DIR = Path(os.getcwd()).parent.parent.resolve()\n",
    "%cd $BASE_DIR"
   ]
  },
  {
   "cell_type": "markdown",
   "metadata": {
    "id": "G7WUHBU1bvQU"
   },
   "source": [
    "### Ignore Warnings"
   ]
  },
  {
   "cell_type": "code",
   "execution_count": 4,
   "metadata": {
    "colab": {
     "base_uri": "https://localhost:8080/",
     "height": 17
    },
    "executionInfo": {
     "elapsed": 11,
     "status": "ok",
     "timestamp": 1664288148647,
     "user": {
      "displayName": "MIRCO RAMO",
      "userId": "02615844185003710625"
     },
     "user_tz": -60
    },
    "id": "kD9Z8SHDbvQV",
    "outputId": "2bcc2f22-3a27-414f-eef8-4fb575744c4e"
   },
   "outputs": [
    {
     "data": {
      "text/html": [
       "<style>.container {width:80% !important;}</style>"
      ],
      "text/plain": [
       "<IPython.core.display.HTML object>"
      ]
     },
     "metadata": {},
     "output_type": "display_data"
    }
   ],
   "source": [
    "warnings.filterwarnings('ignore')\n",
    "display(HTML(\"<style>.container {width:80% !important;}</style>\"))"
   ]
  },
  {
   "cell_type": "markdown",
   "metadata": {
    "id": "er4sQYhSbvQW"
   },
   "source": [
    "### Import Helpers"
   ]
  },
  {
   "cell_type": "code",
   "execution_count": 5,
   "metadata": {
    "colab": {
     "base_uri": "https://localhost:8080/"
    },
    "executionInfo": {
     "elapsed": 26201,
     "status": "ok",
     "timestamp": 1664288174841,
     "user": {
      "displayName": "MIRCO RAMO",
      "userId": "02615844185003710625"
     },
     "user_tz": -60
    },
    "id": "1HlPqaGlbvQX",
    "outputId": "87bccb2a-cfa3-47d3-e864-ffb581d51f19"
   },
   "outputs": [],
   "source": [
    "from models.scripts.transformer.ExprTree_model import model_builder, pad_collate_fn\n",
    "from models.scripts.transformer.utils import strokes_to_svg, build_vocab, tensor_to_word, preprocess_dataset, seed_all, initialize_weights\n",
    "from models.scripts.generate_arithmetic_sequences import SequenceGenerator"
   ]
  },
  {
   "cell_type": "markdown",
   "metadata": {
    "id": "Cocc4NNgbvQY"
   },
   "source": [
    "### Configuration Settings"
   ]
  },
  {
   "cell_type": "code",
   "execution_count": 6,
   "metadata": {
    "executionInfo": {
     "elapsed": 5,
     "status": "ok",
     "timestamp": 1664288175196,
     "user": {
      "displayName": "MIRCO RAMO",
      "userId": "02615844185003710625"
     },
     "user_tz": -60
    },
    "id": "nAkwfkkgbvQY"
   },
   "outputs": [],
   "source": [
    "VERSION = \"v10\"\n",
    "SEED = 2021\n",
    "BATCH_SIZE = 256"
   ]
  },
  {
   "cell_type": "code",
   "execution_count": 7,
   "metadata": {
    "executionInfo": {
     "elapsed": 331,
     "status": "ok",
     "timestamp": 1664288175523,
     "user": {
      "displayName": "MIRCO RAMO",
      "userId": "02615844185003710625"
     },
     "user_tz": -60
    },
    "id": "EdAaq7fdbvQZ"
   },
   "outputs": [],
   "source": [
    "seed_all(SEED) # Reproducibility"
   ]
  },
  {
   "cell_type": "markdown",
   "metadata": {
    "id": "EzDA6R8nbvQZ"
   },
   "source": [
    "### Create Vocabulary"
   ]
  },
  {
   "cell_type": "code",
   "execution_count": 8,
   "metadata": {
    "executionInfo": {
     "elapsed": 3,
     "status": "ok",
     "timestamp": 1664288175524,
     "user": {
      "displayName": "MIRCO RAMO",
      "userId": "02615844185003710625"
     },
     "user_tz": -60
    },
    "id": "Dz6OIlHKbvQZ"
   },
   "outputs": [],
   "source": [
    "DIGITS = ['0', '1', '2', '3', '4', '5', '6', '7', '8', '9']\n",
    "OPERATORS = ['+', '-', '*', '/']\n",
    "DECIMAL_NOTATION = ['.']\n",
    "BRACKETS = ['(', ')']\n",
    "EQUAL_SIGN = ['=']\n",
    "SEPARATOR = [',']\n",
    "nums = DIGITS + OPERATORS + DECIMAL_NOTATION + BRACKETS + EQUAL_SIGN + SEPARATOR  #train labels"
   ]
  },
  {
   "cell_type": "code",
   "execution_count": 9,
   "metadata": {
    "colab": {
     "base_uri": "https://localhost:8080/"
    },
    "executionInfo": {
     "elapsed": 301,
     "status": "ok",
     "timestamp": 1664288175822,
     "user": {
      "displayName": "MIRCO RAMO",
      "userId": "02615844185003710625"
     },
     "user_tz": -60
    },
    "id": "oYcb0QzxbvQa",
    "outputId": "a13849dc-20f9-4ff8-8273-d2122281353f"
   },
   "outputs": [
    {
     "name": "stdout",
     "output_type": "stream",
     "text": [
      "Number of Tokens: 23\n",
      "\n",
      "Counter({'0': 1, '1': 1, '2': 1, '3': 1, '4': 1, '5': 1, '6': 1, '7': 1, '8': 1, '9': 1, '+': 1, '-': 1, '*': 1, '/': 1, '.': 1, '(': 1, ')': 1, '=': 1, ',': 1}) \n",
      "\n",
      "{'<unk>': 0, '<pad>': 1, '<bos>': 2, '<eos>': 3, '(': 4, ')': 5, '*': 6, '+': 7, ',': 8, '-': 9, '.': 10, '/': 11, '0': 12, '1': 13, '2': 14, '3': 15, '4': 16, '5': 17, '6': 18, '7': 19, '8': 20, '9': 21, '=': 22}\n"
     ]
    }
   ],
   "source": [
    "VOCAB = build_vocab(nums)\n",
    "\n",
    "N_TOKENS = len(VOCAB)\n",
    "PAD_IDX = VOCAB['<pad>']\n",
    "BOS_IDX = VOCAB['<bos>']\n",
    "EOS_IDX = VOCAB['<eos>']\n",
    "\n",
    "print(f\"Number of Tokens: {N_TOKENS}\\n\")\n",
    "print(VOCAB.freqs, \"\\n\") # Distribution\n",
    "print({VOCAB.itos[i]: i for i in range(N_TOKENS)}) # Token order"
   ]
  },
  {
   "cell_type": "markdown",
   "metadata": {
    "id": "oU1P_gmybvQb"
   },
   "source": [
    "### Generate Datasets"
   ]
  },
  {
   "cell_type": "code",
   "execution_count": 10,
   "metadata": {
    "colab": {
     "base_uri": "https://localhost:8080/"
    },
    "executionInfo": {
     "elapsed": 1418,
     "status": "ok",
     "timestamp": 1664288177239,
     "user": {
      "displayName": "MIRCO RAMO",
      "userId": "02615844185003710625"
     },
     "user_tz": -60
    },
    "id": "4v3dlLMwbvQb",
    "outputId": "9922fc72-6929-4f3e-f794-75594a36da99",
    "scrolled": true
   },
   "outputs": [
    {
     "name": "stdout",
     "output_type": "stream",
     "text": [
      "Using cached dataset file in cache\\expressions_cache\\expressions_120k_mb.h5\n"
     ]
    }
   ],
   "source": [
    "d_gen = SequenceGenerator(\n",
    "        vocab = VOCAB,\n",
    "        allow_brackets = True,\n",
    "        save_mode = 'marked_postfix',      # saves expressions in RPN\n",
    "        total_expressions = 120 * 1000  #final number of expressions is this*augmentation amount\n",
    "      )\n",
    "use_cache = True\n",
    "\n",
    "if use_cache: # Generate from cache file\n",
    "    train, valid, test = d_gen.generate_from_cache()\n",
    "\n",
    "else: # Generate from scratch and cache (if regenerated, results could change)\n",
    "    train, valid, test = d_gen.generate()"
   ]
  },
  {
   "cell_type": "markdown",
   "metadata": {
    "id": "SZGUQxg0bvQc"
   },
   "source": [
    "### Create Dataset for PyTorch"
   ]
  },
  {
   "cell_type": "code",
   "execution_count": null,
   "metadata": {
    "colab": {
     "base_uri": "https://localhost:8080/"
    },
    "executionInfo": {
     "elapsed": 73067,
     "status": "ok",
     "timestamp": 1663939170024,
     "user": {
      "displayName": "MIRCO RAMO",
      "userId": "02615844185003710625"
     },
     "user_tz": -60
    },
    "id": "_RnUcaQXbvQc",
    "outputId": "0955ef0d-cc31-46a6-a660-da758a91107e",
    "pycharm": {
     "is_executing": true
    }
   },
   "outputs": [],
   "source": [
    "preprocessed_train = preprocess_dataset(train, VOCAB,  os.path.join(d_gen.fname, \"train.pt\"))\n",
    "preprocessed_valid = preprocess_dataset(valid, VOCAB,  os.path.join(d_gen.fname, \"valid.pt\"))"
   ]
  },
  {
   "cell_type": "code",
   "execution_count": null,
   "metadata": {
    "id": "S3KZ5ZtIcdtp"
   },
   "outputs": [],
   "source": [
    "train_set = DataLoader(preprocessed_train, batch_size=BATCH_SIZE, shuffle=True, collate_fn=pad_collate_fn)\n",
    "valid_set = DataLoader(preprocessed_valid, batch_size=BATCH_SIZE, shuffle=False, collate_fn=pad_collate_fn)"
   ]
  },
  {
   "cell_type": "markdown",
   "metadata": {
    "id": "nroj8HI2bvQd"
   },
   "source": [
    "### Inspect Generated Data"
   ]
  },
  {
   "cell_type": "code",
   "execution_count": null,
   "metadata": {
    "colab": {
     "base_uri": "https://localhost:8080/",
     "height": 1000
    },
    "executionInfo": {
     "elapsed": 777,
     "status": "ok",
     "timestamp": 1663939170768,
     "user": {
      "displayName": "MIRCO RAMO",
      "userId": "02615844185003710625"
     },
     "user_tz": -60
    },
    "id": "2qPjagltbvQd",
    "outputId": "bc9c3eb2-3a4a-480a-b4f5-fd5883bfda93",
    "pycharm": {
     "is_executing": true
    },
    "scrolled": false,
    "tags": []
   },
   "outputs": [],
   "source": [
    "# Get random index\n",
    "x_dummy, y_dummy = next(iter(valid_set)) # Create dummy for visualization\n",
    "ind = random.choice(range(y_dummy.shape[0]))\n",
    "print(\"Index:\", ind)\n",
    "\n",
    "# Show actual expr for first tensor\n",
    "print(\" \".join(tensor_to_word(y_dummy[ind], VOCAB)), \"\\n\")\n",
    "\n",
    "# Get length of subplot depending on granularity (exclude bos/eos for strokes)\n",
    "svg_str = strokes_to_svg(x_dummy[ind], {'height':100, 'width':100}, d_gen.padding_value, BOS_IDX, EOS_IDX)\n",
    "display(SVG(data = svg_str))\n",
    "\n",
    "print()\n",
    "print(\"Y Shape:\", y_dummy.shape)\n",
    "print(\"X Shape:\", x_dummy.shape)\n",
    "print()\n",
    "print(f'Y[{ind}]:', y_dummy[ind])\n",
    "print(f'X[{ind}]:', x_dummy[ind])\n",
    "print()\n",
    "print(f'X[{ind}][2]:', x_dummy[ind][2])"
   ]
  },
  {
   "cell_type": "markdown",
   "metadata": {
    "id": "_Y52g6EGbvQd"
   },
   "source": [
    "### Model Hyperparameters/Create Transformer Model"
   ]
  },
  {
   "cell_type": "code",
   "execution_count": 11,
   "metadata": {
    "executionInfo": {
     "elapsed": 818,
     "status": "ok",
     "timestamp": 1664288178412,
     "user": {
      "displayName": "MIRCO RAMO",
      "userId": "02615844185003710625"
     },
     "user_tz": -60
    },
    "id": "eWuxxoIibvQe"
   },
   "outputs": [
    {
     "name": "stdout",
     "output_type": "stream",
     "text": [
      "The model has 934,423 trainable parameters.\n",
      "Encoder trainable parameters: 0.\n",
      "Decoder trainable parameters: 934,423.\n",
      "\n",
      "\n",
      "\n",
      " Transformer(\n",
      "  (encoder): Encoder(\n",
      "    (pos_embedding): Embedding(200, 128)\n",
      "    (layers): ModuleList(\n",
      "      (0): EncoderLayer(\n",
      "        (self_attn_layer_norm): LayerNorm((128,), eps=1e-05, elementwise_affine=True)\n",
      "        (ff_layer_norm): LayerNorm((128,), eps=1e-05, elementwise_affine=True)\n",
      "        (self_attention): MultiHeadAttentionLayer(\n",
      "          (fc_q): Linear(in_features=128, out_features=128, bias=True)\n",
      "          (fc_k): Linear(in_features=128, out_features=128, bias=True)\n",
      "          (fc_v): Linear(in_features=128, out_features=128, bias=True)\n",
      "          (fc_o): Linear(in_features=128, out_features=128, bias=True)\n",
      "          (dropout): Dropout(p=0.1, inplace=False)\n",
      "        )\n",
      "        (positionwise_feedforward): PositionwiseFeedforwardLayer(\n",
      "          (fc_1): Linear(in_features=128, out_features=128, bias=True)\n",
      "          (fc_2): Linear(in_features=128, out_features=128, bias=True)\n",
      "          (dropout): Dropout(p=0.1, inplace=False)\n",
      "        )\n",
      "        (dropout): Dropout(p=0.1, inplace=False)\n",
      "      )\n",
      "      (1): EncoderLayer(\n",
      "        (self_attn_layer_norm): LayerNorm((128,), eps=1e-05, elementwise_affine=True)\n",
      "        (ff_layer_norm): LayerNorm((128,), eps=1e-05, elementwise_affine=True)\n",
      "        (self_attention): MultiHeadAttentionLayer(\n",
      "          (fc_q): Linear(in_features=128, out_features=128, bias=True)\n",
      "          (fc_k): Linear(in_features=128, out_features=128, bias=True)\n",
      "          (fc_v): Linear(in_features=128, out_features=128, bias=True)\n",
      "          (fc_o): Linear(in_features=128, out_features=128, bias=True)\n",
      "          (dropout): Dropout(p=0.1, inplace=False)\n",
      "        )\n",
      "        (positionwise_feedforward): PositionwiseFeedforwardLayer(\n",
      "          (fc_1): Linear(in_features=128, out_features=128, bias=True)\n",
      "          (fc_2): Linear(in_features=128, out_features=128, bias=True)\n",
      "          (dropout): Dropout(p=0.1, inplace=False)\n",
      "        )\n",
      "        (dropout): Dropout(p=0.1, inplace=False)\n",
      "      )\n",
      "      (2): EncoderLayer(\n",
      "        (self_attn_layer_norm): LayerNorm((128,), eps=1e-05, elementwise_affine=True)\n",
      "        (ff_layer_norm): LayerNorm((128,), eps=1e-05, elementwise_affine=True)\n",
      "        (self_attention): MultiHeadAttentionLayer(\n",
      "          (fc_q): Linear(in_features=128, out_features=128, bias=True)\n",
      "          (fc_k): Linear(in_features=128, out_features=128, bias=True)\n",
      "          (fc_v): Linear(in_features=128, out_features=128, bias=True)\n",
      "          (fc_o): Linear(in_features=128, out_features=128, bias=True)\n",
      "          (dropout): Dropout(p=0.1, inplace=False)\n",
      "        )\n",
      "        (positionwise_feedforward): PositionwiseFeedforwardLayer(\n",
      "          (fc_1): Linear(in_features=128, out_features=128, bias=True)\n",
      "          (fc_2): Linear(in_features=128, out_features=128, bias=True)\n",
      "          (dropout): Dropout(p=0.1, inplace=False)\n",
      "        )\n",
      "        (dropout): Dropout(p=0.1, inplace=False)\n",
      "      )\n",
      "      (3): EncoderLayer(\n",
      "        (self_attn_layer_norm): LayerNorm((128,), eps=1e-05, elementwise_affine=True)\n",
      "        (ff_layer_norm): LayerNorm((128,), eps=1e-05, elementwise_affine=True)\n",
      "        (self_attention): MultiHeadAttentionLayer(\n",
      "          (fc_q): Linear(in_features=128, out_features=128, bias=True)\n",
      "          (fc_k): Linear(in_features=128, out_features=128, bias=True)\n",
      "          (fc_v): Linear(in_features=128, out_features=128, bias=True)\n",
      "          (fc_o): Linear(in_features=128, out_features=128, bias=True)\n",
      "          (dropout): Dropout(p=0.1, inplace=False)\n",
      "        )\n",
      "        (positionwise_feedforward): PositionwiseFeedforwardLayer(\n",
      "          (fc_1): Linear(in_features=128, out_features=128, bias=True)\n",
      "          (fc_2): Linear(in_features=128, out_features=128, bias=True)\n",
      "          (dropout): Dropout(p=0.1, inplace=False)\n",
      "        )\n",
      "        (dropout): Dropout(p=0.1, inplace=False)\n",
      "      )\n",
      "      (4): EncoderLayer(\n",
      "        (self_attn_layer_norm): LayerNorm((128,), eps=1e-05, elementwise_affine=True)\n",
      "        (ff_layer_norm): LayerNorm((128,), eps=1e-05, elementwise_affine=True)\n",
      "        (self_attention): MultiHeadAttentionLayer(\n",
      "          (fc_q): Linear(in_features=128, out_features=128, bias=True)\n",
      "          (fc_k): Linear(in_features=128, out_features=128, bias=True)\n",
      "          (fc_v): Linear(in_features=128, out_features=128, bias=True)\n",
      "          (fc_o): Linear(in_features=128, out_features=128, bias=True)\n",
      "          (dropout): Dropout(p=0.1, inplace=False)\n",
      "        )\n",
      "        (positionwise_feedforward): PositionwiseFeedforwardLayer(\n",
      "          (fc_1): Linear(in_features=128, out_features=128, bias=True)\n",
      "          (fc_2): Linear(in_features=128, out_features=128, bias=True)\n",
      "          (dropout): Dropout(p=0.1, inplace=False)\n",
      "        )\n",
      "        (dropout): Dropout(p=0.1, inplace=False)\n",
      "      )\n",
      "    )\n",
      "    (dropout): Dropout(p=0.1, inplace=False)\n",
      "  )\n",
      "  (decoder): Decoder(\n",
      "    (tok_embedding): Embedding(23, 128)\n",
      "    (pos_embedding): Embedding(14, 128)\n",
      "    (layers): ModuleList(\n",
      "      (0): DecoderLayer(\n",
      "        (self_attn_layer_norm): LayerNorm((128,), eps=1e-05, elementwise_affine=True)\n",
      "        (enc_attn_layer_norm): LayerNorm((128,), eps=1e-05, elementwise_affine=True)\n",
      "        (ff_layer_norm): LayerNorm((128,), eps=1e-05, elementwise_affine=True)\n",
      "        (self_attention): MultiHeadAttentionLayer(\n",
      "          (fc_q): Linear(in_features=128, out_features=128, bias=True)\n",
      "          (fc_k): Linear(in_features=128, out_features=128, bias=True)\n",
      "          (fc_v): Linear(in_features=128, out_features=128, bias=True)\n",
      "          (fc_o): Linear(in_features=128, out_features=128, bias=True)\n",
      "          (dropout): Dropout(p=0.1, inplace=False)\n",
      "        )\n",
      "        (encoder_attention): MultiHeadAttentionLayer(\n",
      "          (fc_q): Linear(in_features=128, out_features=128, bias=True)\n",
      "          (fc_k): Linear(in_features=128, out_features=128, bias=True)\n",
      "          (fc_v): Linear(in_features=128, out_features=128, bias=True)\n",
      "          (fc_o): Linear(in_features=128, out_features=128, bias=True)\n",
      "          (dropout): Dropout(p=0.1, inplace=False)\n",
      "        )\n",
      "        (positionwise_feedforward): PositionwiseFeedforwardLayer(\n",
      "          (fc_1): Linear(in_features=128, out_features=384, bias=True)\n",
      "          (fc_2): Linear(in_features=384, out_features=128, bias=True)\n",
      "          (dropout): Dropout(p=0.1, inplace=False)\n",
      "        )\n",
      "        (dropout): Dropout(p=0.1, inplace=False)\n",
      "      )\n",
      "      (1): DecoderLayer(\n",
      "        (self_attn_layer_norm): LayerNorm((128,), eps=1e-05, elementwise_affine=True)\n",
      "        (enc_attn_layer_norm): LayerNorm((128,), eps=1e-05, elementwise_affine=True)\n",
      "        (ff_layer_norm): LayerNorm((128,), eps=1e-05, elementwise_affine=True)\n",
      "        (self_attention): MultiHeadAttentionLayer(\n",
      "          (fc_q): Linear(in_features=128, out_features=128, bias=True)\n",
      "          (fc_k): Linear(in_features=128, out_features=128, bias=True)\n",
      "          (fc_v): Linear(in_features=128, out_features=128, bias=True)\n",
      "          (fc_o): Linear(in_features=128, out_features=128, bias=True)\n",
      "          (dropout): Dropout(p=0.1, inplace=False)\n",
      "        )\n",
      "        (encoder_attention): MultiHeadAttentionLayer(\n",
      "          (fc_q): Linear(in_features=128, out_features=128, bias=True)\n",
      "          (fc_k): Linear(in_features=128, out_features=128, bias=True)\n",
      "          (fc_v): Linear(in_features=128, out_features=128, bias=True)\n",
      "          (fc_o): Linear(in_features=128, out_features=128, bias=True)\n",
      "          (dropout): Dropout(p=0.1, inplace=False)\n",
      "        )\n",
      "        (positionwise_feedforward): PositionwiseFeedforwardLayer(\n",
      "          (fc_1): Linear(in_features=128, out_features=384, bias=True)\n",
      "          (fc_2): Linear(in_features=384, out_features=128, bias=True)\n",
      "          (dropout): Dropout(p=0.1, inplace=False)\n",
      "        )\n",
      "        (dropout): Dropout(p=0.1, inplace=False)\n",
      "      )\n",
      "      (2): DecoderLayer(\n",
      "        (self_attn_layer_norm): LayerNorm((128,), eps=1e-05, elementwise_affine=True)\n",
      "        (enc_attn_layer_norm): LayerNorm((128,), eps=1e-05, elementwise_affine=True)\n",
      "        (ff_layer_norm): LayerNorm((128,), eps=1e-05, elementwise_affine=True)\n",
      "        (self_attention): MultiHeadAttentionLayer(\n",
      "          (fc_q): Linear(in_features=128, out_features=128, bias=True)\n",
      "          (fc_k): Linear(in_features=128, out_features=128, bias=True)\n",
      "          (fc_v): Linear(in_features=128, out_features=128, bias=True)\n",
      "          (fc_o): Linear(in_features=128, out_features=128, bias=True)\n",
      "          (dropout): Dropout(p=0.1, inplace=False)\n",
      "        )\n",
      "        (encoder_attention): MultiHeadAttentionLayer(\n",
      "          (fc_q): Linear(in_features=128, out_features=128, bias=True)\n",
      "          (fc_k): Linear(in_features=128, out_features=128, bias=True)\n",
      "          (fc_v): Linear(in_features=128, out_features=128, bias=True)\n",
      "          (fc_o): Linear(in_features=128, out_features=128, bias=True)\n",
      "          (dropout): Dropout(p=0.1, inplace=False)\n",
      "        )\n",
      "        (positionwise_feedforward): PositionwiseFeedforwardLayer(\n",
      "          (fc_1): Linear(in_features=128, out_features=384, bias=True)\n",
      "          (fc_2): Linear(in_features=384, out_features=128, bias=True)\n",
      "          (dropout): Dropout(p=0.1, inplace=False)\n",
      "        )\n",
      "        (dropout): Dropout(p=0.1, inplace=False)\n",
      "      )\n",
      "      (3): DecoderLayer(\n",
      "        (self_attn_layer_norm): LayerNorm((128,), eps=1e-05, elementwise_affine=True)\n",
      "        (enc_attn_layer_norm): LayerNorm((128,), eps=1e-05, elementwise_affine=True)\n",
      "        (ff_layer_norm): LayerNorm((128,), eps=1e-05, elementwise_affine=True)\n",
      "        (self_attention): MultiHeadAttentionLayer(\n",
      "          (fc_q): Linear(in_features=128, out_features=128, bias=True)\n",
      "          (fc_k): Linear(in_features=128, out_features=128, bias=True)\n",
      "          (fc_v): Linear(in_features=128, out_features=128, bias=True)\n",
      "          (fc_o): Linear(in_features=128, out_features=128, bias=True)\n",
      "          (dropout): Dropout(p=0.1, inplace=False)\n",
      "        )\n",
      "        (encoder_attention): MultiHeadAttentionLayer(\n",
      "          (fc_q): Linear(in_features=128, out_features=128, bias=True)\n",
      "          (fc_k): Linear(in_features=128, out_features=128, bias=True)\n",
      "          (fc_v): Linear(in_features=128, out_features=128, bias=True)\n",
      "          (fc_o): Linear(in_features=128, out_features=128, bias=True)\n",
      "          (dropout): Dropout(p=0.1, inplace=False)\n",
      "        )\n",
      "        (positionwise_feedforward): PositionwiseFeedforwardLayer(\n",
      "          (fc_1): Linear(in_features=128, out_features=384, bias=True)\n",
      "          (fc_2): Linear(in_features=384, out_features=128, bias=True)\n",
      "          (dropout): Dropout(p=0.1, inplace=False)\n",
      "        )\n",
      "        (dropout): Dropout(p=0.1, inplace=False)\n",
      "      )\n",
      "    )\n",
      "    (fc_out): Linear(in_features=128, out_features=23, bias=True)\n",
      "    (dropout): Dropout(p=0.1, inplace=False)\n",
      "  )\n",
      ")\n"
     ]
    }
   ],
   "source": [
    "model= model_builder(VERSION, VOCAB, n_tokens=N_TOKENS, encoder='v74-bpe', dec_max_length=28)\n",
    "model.encoder.requires_grad_(False)\n",
    "model.save_hyperparameters_to_json()\n",
    "model.count_parameters()\n",
    "print(f\"Encoder trainable parameters: {sum(p.numel() for p in model.encoder.parameters() if p.requires_grad):,}.\")\n",
    "print(f\"Decoder trainable parameters: {sum(p.numel() for p in model.decoder.parameters() if p.requires_grad):,}.\")\n",
    "print(\"\\n\\n\\n\", model)"
   ]
  },
  {
   "cell_type": "markdown",
   "metadata": {
    "id": "q_43amFwbvQf"
   },
   "source": [
    "### Loss/Optimization configuration"
   ]
  },
  {
   "cell_type": "code",
   "execution_count": null,
   "metadata": {
    "colab": {
     "base_uri": "https://localhost:8080/"
    },
    "executionInfo": {
     "elapsed": 13,
     "status": "ok",
     "timestamp": 1663939172362,
     "user": {
      "displayName": "MIRCO RAMO",
      "userId": "02615844185003710625"
     },
     "user_tz": -60
    },
    "id": "4Xp23ya5bvQf",
    "outputId": "4e135676-37bd-4987-a68e-bfbf99ce9341"
   },
   "outputs": [
    {
     "name": "stdout",
     "output_type": "stream",
     "text": [
      "Adjusting learning rate of group 0 to 8.0000e-04.\n"
     ]
    }
   ],
   "source": [
    "CLIP = 1\n",
    "# BATCH_N0 = 4\n",
    "NUM_OF_EPOCHS = 8000\n",
    "\n",
    "LEARNING_RATE = 0.0008\n",
    "optimizer = torch.optim.Adam(model.parameters(), lr=LEARNING_RATE)\n",
    "scheduler = torch.optim.lr_scheduler.StepLR(optimizer, step_size=30, gamma=0.5)"
   ]
  },
  {
   "cell_type": "markdown",
   "metadata": {
    "id": "Zcv9CefYbvQf"
   },
   "source": [
    "### Training process along with best-model caching"
   ]
  },
  {
   "cell_type": "code",
   "execution_count": null,
   "metadata": {
    "id": "Ujh259JjbvQf",
    "scrolled": true
   },
   "outputs": [],
   "source": [
    "model.decoder.apply(initialize_weights)\n",
    "model.train_loop(resume=False,\n",
    "                 train_set=train_set,\n",
    "                 valid_set=valid_set,\n",
    "                 optimizer=optimizer,\n",
    "                 scheduler=scheduler)"
   ]
  },
  {
   "cell_type": "markdown",
   "metadata": {
    "id": "BDW8kIJ6bvQg"
   },
   "source": [
    "### Plot Training  Logs"
   ]
  },
  {
   "cell_type": "code",
   "execution_count": null,
   "metadata": {
    "colab": {
     "base_uri": "https://localhost:8080/"
    },
    "executionInfo": {
     "elapsed": 857,
     "status": "ok",
     "timestamp": 1663685171171,
     "user": {
      "displayName": "MIRCO RAMO",
      "userId": "02615844185003710625"
     },
     "user_tz": -60
    },
    "id": "YStBmrn4bvQg",
    "outputId": "f508e394-2627-40d6-a33d-b152c97eb125"
   },
   "outputs": [
    {
     "data": {
      "image/png": "[encoded data removed]",
      "text/plain": [
       "<Figure size 648x504 with 1 Axes>"
      ]
     },
     "metadata": {
      "needs_background": "light"
     },
     "output_type": "display_data"
    }
   ],
   "source": [
    "model.plot_training()"
   ]
  }
 ],
 "metadata": {
  "colab": {
   "authorship_tag": "ABX9TyN6D+2zIcVpqAAbrxpRDfyC",
   "collapsed_sections": [
    "jIovyUUsbvQk",
    "qEGLnx_agsgN",
    "749Sdd3Wgdaz"
   ],
   "provenance": []
  },
  "gpuClass": "standard",
  "kernelspec": {
   "display_name": "Python 3 (ipykernel)",
   "language": "python",
   "name": "python3"
  },
  "language_info": {
   "codemirror_mode": {
    "name": "ipython",
    "version": 3
   },
   "file_extension": ".py",
   "mimetype": "text/x-python",
   "name": "python",
   "nbconvert_exporter": "python",
   "pygments_lexer": "ipython3",
   "version": "3.8.10"
  }
 },
 "nbformat": 4,
 "nbformat_minor": 1
}
