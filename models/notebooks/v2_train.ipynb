{
 "nbformat": 4,
 "nbformat_minor": 0,
 "metadata": {
  "colab": {
   "provenance": [],
   "collapsed_sections": [],
   "authorship_tag": "ABX9TyNBwLkDjMxZX38evOD5G0A8"
  },
  "kernelspec": {
   "name": "python3",
   "display_name": "Python 3"
  },
  "language_info": {
   "name": "python"
  },
  "gpuClass": "standard"
 },
 "cells": [
  {
   "cell_type": "markdown",
   "source": [
    "# v2 training"
   ],
   "metadata": {
    "collapsed": false
   }
  },
  {
   "cell_type": "code",
   "execution_count": null,
   "outputs": [],
   "source": [
    "import os\n",
    "import sys\n",
    "import random\n",
    "import warnings\n",
    "\n",
    "from pathlib import Path\n",
    "from IPython.display import SVG, display\n",
    "from IPython.core.display import HTML\n",
    "\n",
    "from torch.utils.data import DataLoader"
   ],
   "metadata": {
    "collapsed": false
   }
  },
  {
   "cell_type": "markdown",
   "metadata": {
    "id": "80xE4wAKbvQR"
   },
   "source": [
    "### Enable Hot Reload"
   ]
  },
  {
   "cell_type": "code",
   "execution_count": null,
   "metadata": {
    "id": "Snik4oyubvQS"
   },
   "outputs": [],
   "source": [
    "%load_ext autoreload\n",
    "%autoreload 2"
   ]
  },
  {
   "cell_type": "markdown",
   "metadata": {
    "id": "J2sSP8WcbvQT"
   },
   "source": [
    "### Edit Python path\n",
    "Add the `models` directory to Python's `path`."
   ]
  },
  {
   "cell_type": "code",
   "execution_count": null,
   "metadata": {
    "id": "5HB7xdGfbvQU",
    "colab": {
     "base_uri": "https://localhost:8080/"
    },
    "executionInfo": {
     "status": "ok",
     "timestamp": 1664280226074,
     "user_tz": -60,
     "elapsed": 12,
     "user": {
      "displayName": "MIRCO RAMO",
      "userId": "02615844185003710625"
     }
    },
    "outputId": "e3141b52-46fc-4532-fc39-bab610639249"
   },
   "outputs": [
    {
     "output_type": "stream",
     "name": "stdout",
     "text": [
      "/content/drive/Shareddrives/OnlineProject/Handwritten_arithmetic\n"
     ]
    }
   ],
   "source": [
    "b_paths = [os.path.abspath(os.path.join('..', '..')), os.path.abspath(os.path.join('..')), os.path.abspath(os.path.join('..', 'scripts'))]\n",
    "for b_path in b_paths:\n",
    "    if b_path not in sys.path:\n",
    "        sys.path.append(b_path)\n",
    "\n",
    "BASE_DIR = Path(os.getcwd()).parent.parent.resolve()\n",
    "%cd $BASE_DIR"
   ]
  },
  {
   "cell_type": "markdown",
   "metadata": {
    "id": "G7WUHBU1bvQU"
   },
   "source": [
    "### Ignore Warnings"
   ]
  },
  {
   "cell_type": "code",
   "execution_count": null,
   "metadata": {
    "id": "kD9Z8SHDbvQV",
    "outputId": "16b37f6f-a4da-4163-efd9-83d69b4eb91b",
    "colab": {
     "base_uri": "https://localhost:8080/",
     "height": 17
    },
    "executionInfo": {
     "status": "ok",
     "timestamp": 1664280226075,
     "user_tz": -60,
     "elapsed": 10,
     "user": {
      "displayName": "MIRCO RAMO",
      "userId": "02615844185003710625"
     }
    }
   },
   "outputs": [
    {
     "output_type": "display_data",
     "data": {
      "text/plain": [
       "<IPython.core.display.HTML object>"
      ],
      "text/html": [
       "<style>.container {width:80% !important;}</style>"
      ]
     },
     "metadata": {}
    }
   ],
   "source": [
    "warnings.filterwarnings('ignore')\n",
    "display(HTML(\"<style>.container {width:80% !important;}</style>\"))"
   ]
  },
  {
   "cell_type": "markdown",
   "metadata": {
    "id": "er4sQYhSbvQW"
   },
   "source": [
    "### Import Helpers"
   ]
  },
  {
   "cell_type": "code",
   "execution_count": null,
   "metadata": {
    "id": "1HlPqaGlbvQX",
    "executionInfo": {
     "status": "ok",
     "timestamp": 1664280254341,
     "user_tz": -60,
     "elapsed": 28275,
     "user": {
      "displayName": "MIRCO RAMO",
      "userId": "02615844185003710625"
     }
    },
    "colab": {
     "base_uri": "https://localhost:8080/"
    },
    "outputId": "864c5831-2277-4349-e18d-8c870f245146",
    "pycharm": {
     "is_executing": true
    }
   },
   "outputs": [],
   "source": [
    "from models.scripts.transformer.ExprTree_model import model_builder, pad_collate_fn\n",
    "from models.scripts.transformer.utils import strokes_to_svg, build_vocab, tensor_to_word, preprocess_dataset, seed_all, initialize_weights\n",
    "from models.scripts.generate_arithmetic_sequences import SequenceGenerator"
   ]
  },
  {
   "cell_type": "markdown",
   "metadata": {
    "id": "Cocc4NNgbvQY"
   },
   "source": [
    "### Configuration Settings"
   ]
  },
  {
   "cell_type": "code",
   "execution_count": null,
   "metadata": {
    "id": "nAkwfkkgbvQY"
   },
   "outputs": [],
   "source": [
    "VERSION = \"v2\"\n",
    "SEED = 2021\n",
    "BATCH_SIZE = 256"
   ]
  },
  {
   "cell_type": "code",
   "execution_count": null,
   "metadata": {
    "id": "EdAaq7fdbvQZ"
   },
   "outputs": [],
   "source": [
    "seed_all(SEED) # Reproducibility"
   ]
  },
  {
   "cell_type": "markdown",
   "metadata": {
    "id": "EzDA6R8nbvQZ"
   },
   "source": [
    "### Create Vocabulary"
   ]
  },
  {
   "cell_type": "code",
   "execution_count": null,
   "metadata": {
    "id": "Dz6OIlHKbvQZ"
   },
   "outputs": [],
   "source": [
    "DIGITS = ['0', '1', '2', '3', '4', '5', '6', '7', '8', '9']\n",
    "OPERATORS = ['+', '-', '*', '/']\n",
    "DECIMAL_NOTATION = ['.']\n",
    "BRACKETS = ['(', ')']\n",
    "EQUAL_SIGN = ['=']\n",
    "nums = DIGITS + OPERATORS + DECIMAL_NOTATION + BRACKETS + EQUAL_SIGN  #train labels"
   ]
  },
  {
   "cell_type": "code",
   "execution_count": null,
   "metadata": {
    "id": "oYcb0QzxbvQa",
    "colab": {
     "base_uri": "https://localhost:8080/"
    },
    "executionInfo": {
     "status": "ok",
     "timestamp": 1664280254802,
     "user_tz": -60,
     "elapsed": 11,
     "user": {
      "displayName": "MIRCO RAMO",
      "userId": "02615844185003710625"
     }
    },
    "outputId": "4da94700-5ac3-407d-e7b1-8d1b1602172c"
   },
   "outputs": [
    {
     "output_type": "stream",
     "name": "stdout",
     "text": [
      "Number of Tokens: 22\n",
      "\n",
      "Counter({'0': 1, '1': 1, '2': 1, '3': 1, '4': 1, '5': 1, '6': 1, '7': 1, '8': 1, '9': 1, '+': 1, '-': 1, '*': 1, '/': 1, '.': 1, '(': 1, ')': 1, '=': 1}) \n",
      "\n",
      "{'<unk>': 0, '<pad>': 1, '<bos>': 2, '<eos>': 3, '(': 4, ')': 5, '*': 6, '+': 7, '-': 8, '.': 9, '/': 10, '0': 11, '1': 12, '2': 13, '3': 14, '4': 15, '5': 16, '6': 17, '7': 18, '8': 19, '9': 20, '=': 21}\n"
     ]
    }
   ],
   "source": [
    "VOCAB = build_vocab(nums)\n",
    "\n",
    "N_TOKENS = len(VOCAB)\n",
    "PAD_IDX = VOCAB['<pad>']\n",
    "BOS_IDX = VOCAB['<bos>']\n",
    "EOS_IDX = VOCAB['<eos>']\n",
    "\n",
    "print(f\"Number of Tokens: {N_TOKENS}\\n\")\n",
    "print(VOCAB.freqs, \"\\n\") # Distribution\n",
    "print({VOCAB.itos[i]: i for i in range(N_TOKENS)}) # Token order"
   ]
  },
  {
   "cell_type": "code",
   "execution_count": null,
   "metadata": {
    "tags": [],
    "id": "66rCl9-gbvQa",
    "outputId": "cdca7caf-fb2f-4fb2-c3e5-ac5dafd62c1e",
    "colab": {
     "base_uri": "https://localhost:8080/"
    },
    "executionInfo": {
     "status": "ok",
     "timestamp": 1664280254803,
     "user_tz": -60,
     "elapsed": 5,
     "user": {
      "displayName": "MIRCO RAMO",
      "userId": "02615844185003710625"
     }
    }
   },
   "outputs": [
    {
     "output_type": "stream",
     "name": "stdout",
     "text": [
      "Number of Tokens: 22\n",
      "\n"
     ]
    }
   ],
   "source": [
    "print(f\"Number of Tokens: {N_TOKENS}\\n\")"
   ]
  },
  {
   "cell_type": "markdown",
   "metadata": {
    "id": "oU1P_gmybvQb"
   },
   "source": [
    "### Generate Datasets"
   ]
  },
  {
   "cell_type": "code",
   "execution_count": null,
   "metadata": {
    "scrolled": true,
    "id": "4v3dlLMwbvQb",
    "outputId": "a783edb2-7588-4b25-cd0a-38dbd3f08754",
    "colab": {
     "base_uri": "https://localhost:8080/"
    },
    "executionInfo": {
     "status": "ok",
     "timestamp": 1664280481754,
     "user_tz": -60,
     "elapsed": 2153,
     "user": {
      "displayName": "MIRCO RAMO",
      "userId": "02615844185003710625"
     }
    }
   },
   "outputs": [
    {
     "output_type": "stream",
     "name": "stdout",
     "text": [
      "Using cached dataset file in cache/expressions_cache/expressions_120k_u.h5\n"
     ]
    }
   ],
   "source": [
    "d_gen = SequenceGenerator(\n",
    "        vocab = VOCAB,\n",
    "        allow_brackets = False,\n",
    "        save_mode = 'unsolved',      # saves expressions themselves as labels\n",
    "        total_expressions = 120 * 1000  #final number of expressions is this*augmentation amount\n",
    "      )\n",
    "use_cache = True\n",
    "\n",
    "if use_cache: # Generate from cache file\n",
    "    train, valid, test = d_gen.generate_from_cache()\n",
    "\n",
    "else: # Generate from scratch and cache (if regenerated, results could change)\n",
    "    train, valid, test = d_gen.generate()"
   ]
  },
  {
   "cell_type": "markdown",
   "metadata": {
    "id": "SZGUQxg0bvQc"
   },
   "source": [
    "### Create Dataset for PyTorch"
   ]
  },
  {
   "cell_type": "code",
   "execution_count": null,
   "metadata": {
    "id": "_RnUcaQXbvQc",
    "outputId": "2f80b0b9-621a-42ec-d021-bba49072b393",
    "colab": {
     "base_uri": "https://localhost:8080/"
    },
    "executionInfo": {
     "status": "ok",
     "timestamp": 1664280591819,
     "user_tz": -60,
     "elapsed": 104411,
     "user": {
      "displayName": "MIRCO RAMO",
      "userId": "02615844185003710625"
     }
    },
    "pycharm": {
     "is_executing": true
    }
   },
   "outputs": [],
   "source": [
    "preprocessed_train = preprocess_dataset(train, VOCAB,  os.path.join(d_gen.fname, \"train.pt\"))\n",
    "preprocessed_valid = preprocess_dataset(valid, VOCAB,  os.path.join(d_gen.fname, \"valid.pt\"))"
   ]
  },
  {
   "cell_type": "code",
   "source": [
    "train_set = DataLoader(preprocessed_train, batch_size=BATCH_SIZE, shuffle=True, collate_fn=pad_collate_fn)\n",
    "valid_set = DataLoader(preprocessed_valid, batch_size=BATCH_SIZE, shuffle=False, collate_fn=pad_collate_fn)"
   ],
   "metadata": {
    "id": "S3KZ5ZtIcdtp"
   },
   "execution_count": null,
   "outputs": []
  },
  {
   "cell_type": "markdown",
   "metadata": {
    "id": "nroj8HI2bvQd"
   },
   "source": [
    "### Inspect Generated Data"
   ]
  },
  {
   "cell_type": "code",
   "execution_count": null,
   "metadata": {
    "scrolled": false,
    "tags": [],
    "id": "2qPjagltbvQd",
    "outputId": "a604a86c-67d3-44f8-c28f-ad833e50ef61",
    "colab": {
     "base_uri": "https://localhost:8080/",
     "height": 1000
    },
    "executionInfo": {
     "status": "ok",
     "timestamp": 1664280592780,
     "user_tz": -60,
     "elapsed": 965,
     "user": {
      "displayName": "MIRCO RAMO",
      "userId": "02615844185003710625"
     }
    },
    "pycharm": {
     "is_executing": true
    }
   },
   "outputs": [],
   "source": [
    "# Get random index\n",
    "x_dummy, y_dummy = next(iter(valid_set)) # Create dummy for visualization\n",
    "ind = random.choice(range(y_dummy.shape[0]))\n",
    "print(\"Index:\", ind)\n",
    "\n",
    "# Show actual expr for first tensor\n",
    "print(\" \".join(tensor_to_word(y_dummy[ind], VOCAB)), \"\\n\")\n",
    "\n",
    "# Get length of subplot depending on granularity (exclude bos/eos for strokes)\n",
    "svg_str = strokes_to_svg(x_dummy[ind], {'height':100, 'width':100}, d_gen.padding_value, BOS_IDX, EOS_IDX)\n",
    "display(SVG(data = svg_str))\n",
    "\n",
    "print()\n",
    "print(\"Y Shape:\", y_dummy.shape)\n",
    "print(\"X Shape:\", x_dummy.shape)\n",
    "print()\n",
    "print(f'Y[{ind}]:', y_dummy[ind])\n",
    "print(f'X[{ind}]:', x_dummy[ind])\n",
    "print()\n",
    "print(f'X[{ind}][2]:', x_dummy[ind][2])"
   ]
  },
  {
   "cell_type": "markdown",
   "metadata": {
    "id": "_Y52g6EGbvQd"
   },
   "source": [
    "### Model Hyperparameters/Create Transformer Model"
   ]
  },
  {
   "cell_type": "code",
   "source": [
    "model= model_builder(VERSION, VOCAB, n_tokens=N_TOKENS, encoder='v74-bpe')\n",
    "model.encoder.requires_grad_(False)\n",
    "model.save_hyperparameters_to_json()\n",
    "model.count_parameters()\n",
    "print(f\"Encoder trainable parameters: {sum(p.numel() for p in model.encoder.parameters() if p.requires_grad):,}.\")\n",
    "print(f\"Decoder trainable parameters: {sum(p.numel() for p in model.decoder.parameters() if p.requires_grad):,}.\")\n",
    "print(\"\\n\\n\\n\", model)"
   ],
   "metadata": {
    "colab": {
     "base_uri": "https://localhost:8080/"
    },
    "id": "5bKL8UdQ2YRH",
    "executionInfo": {
     "status": "ok",
     "timestamp": 1664280645996,
     "user_tz": -60,
     "elapsed": 1034,
     "user": {
      "displayName": "MIRCO RAMO",
      "userId": "02615844185003710625"
     }
    },
    "outputId": "1590edad-895d-4c30-ed20-3c57f9f85f42"
   },
   "execution_count": null,
   "outputs": [
    {
     "output_type": "stream",
     "name": "stdout",
     "text": [
      "The model has 1,457,686 trainable parameters.\n",
      "Encoder trainable parameters: 523,520.\n",
      "Decoder trainable parameters: 934,166.\n",
      "\n",
      " Transformer(\n",
      "  (encoder): Encoder(\n",
      "    (pos_embedding): Embedding(200, 128)\n",
      "    (layers): ModuleList(\n",
      "      (0): EncoderLayer(\n",
      "        (self_attn_layer_norm): LayerNorm((128,), eps=1e-05, elementwise_affine=True)\n",
      "        (ff_layer_norm): LayerNorm((128,), eps=1e-05, elementwise_affine=True)\n",
      "        (self_attention): MultiHeadAttentionLayer(\n",
      "          (fc_q): Linear(in_features=128, out_features=128, bias=True)\n",
      "          (fc_k): Linear(in_features=128, out_features=128, bias=True)\n",
      "          (fc_v): Linear(in_features=128, out_features=128, bias=True)\n",
      "          (fc_o): Linear(in_features=128, out_features=128, bias=True)\n",
      "          (dropout): Dropout(p=0.1, inplace=False)\n",
      "        )\n",
      "        (positionwise_feedforward): PositionwiseFeedforwardLayer(\n",
      "          (fc_1): Linear(in_features=128, out_features=128, bias=True)\n",
      "          (fc_2): Linear(in_features=128, out_features=128, bias=True)\n",
      "          (dropout): Dropout(p=0.1, inplace=False)\n",
      "        )\n",
      "        (dropout): Dropout(p=0.1, inplace=False)\n",
      "      )\n",
      "      (1): EncoderLayer(\n",
      "        (self_attn_layer_norm): LayerNorm((128,), eps=1e-05, elementwise_affine=True)\n",
      "        (ff_layer_norm): LayerNorm((128,), eps=1e-05, elementwise_affine=True)\n",
      "        (self_attention): MultiHeadAttentionLayer(\n",
      "          (fc_q): Linear(in_features=128, out_features=128, bias=True)\n",
      "          (fc_k): Linear(in_features=128, out_features=128, bias=True)\n",
      "          (fc_v): Linear(in_features=128, out_features=128, bias=True)\n",
      "          (fc_o): Linear(in_features=128, out_features=128, bias=True)\n",
      "          (dropout): Dropout(p=0.1, inplace=False)\n",
      "        )\n",
      "        (positionwise_feedforward): PositionwiseFeedforwardLayer(\n",
      "          (fc_1): Linear(in_features=128, out_features=128, bias=True)\n",
      "          (fc_2): Linear(in_features=128, out_features=128, bias=True)\n",
      "          (dropout): Dropout(p=0.1, inplace=False)\n",
      "        )\n",
      "        (dropout): Dropout(p=0.1, inplace=False)\n",
      "      )\n",
      "      (2): EncoderLayer(\n",
      "        (self_attn_layer_norm): LayerNorm((128,), eps=1e-05, elementwise_affine=True)\n",
      "        (ff_layer_norm): LayerNorm((128,), eps=1e-05, elementwise_affine=True)\n",
      "        (self_attention): MultiHeadAttentionLayer(\n",
      "          (fc_q): Linear(in_features=128, out_features=128, bias=True)\n",
      "          (fc_k): Linear(in_features=128, out_features=128, bias=True)\n",
      "          (fc_v): Linear(in_features=128, out_features=128, bias=True)\n",
      "          (fc_o): Linear(in_features=128, out_features=128, bias=True)\n",
      "          (dropout): Dropout(p=0.1, inplace=False)\n",
      "        )\n",
      "        (positionwise_feedforward): PositionwiseFeedforwardLayer(\n",
      "          (fc_1): Linear(in_features=128, out_features=128, bias=True)\n",
      "          (fc_2): Linear(in_features=128, out_features=128, bias=True)\n",
      "          (dropout): Dropout(p=0.1, inplace=False)\n",
      "        )\n",
      "        (dropout): Dropout(p=0.1, inplace=False)\n",
      "      )\n",
      "      (3): EncoderLayer(\n",
      "        (self_attn_layer_norm): LayerNorm((128,), eps=1e-05, elementwise_affine=True)\n",
      "        (ff_layer_norm): LayerNorm((128,), eps=1e-05, elementwise_affine=True)\n",
      "        (self_attention): MultiHeadAttentionLayer(\n",
      "          (fc_q): Linear(in_features=128, out_features=128, bias=True)\n",
      "          (fc_k): Linear(in_features=128, out_features=128, bias=True)\n",
      "          (fc_v): Linear(in_features=128, out_features=128, bias=True)\n",
      "          (fc_o): Linear(in_features=128, out_features=128, bias=True)\n",
      "          (dropout): Dropout(p=0.1, inplace=False)\n",
      "        )\n",
      "        (positionwise_feedforward): PositionwiseFeedforwardLayer(\n",
      "          (fc_1): Linear(in_features=128, out_features=128, bias=True)\n",
      "          (fc_2): Linear(in_features=128, out_features=128, bias=True)\n",
      "          (dropout): Dropout(p=0.1, inplace=False)\n",
      "        )\n",
      "        (dropout): Dropout(p=0.1, inplace=False)\n",
      "      )\n",
      "      (4): EncoderLayer(\n",
      "        (self_attn_layer_norm): LayerNorm((128,), eps=1e-05, elementwise_affine=True)\n",
      "        (ff_layer_norm): LayerNorm((128,), eps=1e-05, elementwise_affine=True)\n",
      "        (self_attention): MultiHeadAttentionLayer(\n",
      "          (fc_q): Linear(in_features=128, out_features=128, bias=True)\n",
      "          (fc_k): Linear(in_features=128, out_features=128, bias=True)\n",
      "          (fc_v): Linear(in_features=128, out_features=128, bias=True)\n",
      "          (fc_o): Linear(in_features=128, out_features=128, bias=True)\n",
      "          (dropout): Dropout(p=0.1, inplace=False)\n",
      "        )\n",
      "        (positionwise_feedforward): PositionwiseFeedforwardLayer(\n",
      "          (fc_1): Linear(in_features=128, out_features=128, bias=True)\n",
      "          (fc_2): Linear(in_features=128, out_features=128, bias=True)\n",
      "          (dropout): Dropout(p=0.1, inplace=False)\n",
      "        )\n",
      "        (dropout): Dropout(p=0.1, inplace=False)\n",
      "      )\n",
      "    )\n",
      "    (dropout): Dropout(p=0.1, inplace=False)\n",
      "  )\n",
      "  (decoder): Decoder(\n",
      "    (tok_embedding): Embedding(22, 128)\n",
      "    (pos_embedding): Embedding(14, 128)\n",
      "    (layers): ModuleList(\n",
      "      (0): DecoderLayer(\n",
      "        (self_attn_layer_norm): LayerNorm((128,), eps=1e-05, elementwise_affine=True)\n",
      "        (enc_attn_layer_norm): LayerNorm((128,), eps=1e-05, elementwise_affine=True)\n",
      "        (ff_layer_norm): LayerNorm((128,), eps=1e-05, elementwise_affine=True)\n",
      "        (self_attention): MultiHeadAttentionLayer(\n",
      "          (fc_q): Linear(in_features=128, out_features=128, bias=True)\n",
      "          (fc_k): Linear(in_features=128, out_features=128, bias=True)\n",
      "          (fc_v): Linear(in_features=128, out_features=128, bias=True)\n",
      "          (fc_o): Linear(in_features=128, out_features=128, bias=True)\n",
      "          (dropout): Dropout(p=0.1, inplace=False)\n",
      "        )\n",
      "        (encoder_attention): MultiHeadAttentionLayer(\n",
      "          (fc_q): Linear(in_features=128, out_features=128, bias=True)\n",
      "          (fc_k): Linear(in_features=128, out_features=128, bias=True)\n",
      "          (fc_v): Linear(in_features=128, out_features=128, bias=True)\n",
      "          (fc_o): Linear(in_features=128, out_features=128, bias=True)\n",
      "          (dropout): Dropout(p=0.1, inplace=False)\n",
      "        )\n",
      "        (positionwise_feedforward): PositionwiseFeedforwardLayer(\n",
      "          (fc_1): Linear(in_features=128, out_features=384, bias=True)\n",
      "          (fc_2): Linear(in_features=384, out_features=128, bias=True)\n",
      "          (dropout): Dropout(p=0.1, inplace=False)\n",
      "        )\n",
      "        (dropout): Dropout(p=0.1, inplace=False)\n",
      "      )\n",
      "      (1): DecoderLayer(\n",
      "        (self_attn_layer_norm): LayerNorm((128,), eps=1e-05, elementwise_affine=True)\n",
      "        (enc_attn_layer_norm): LayerNorm((128,), eps=1e-05, elementwise_affine=True)\n",
      "        (ff_layer_norm): LayerNorm((128,), eps=1e-05, elementwise_affine=True)\n",
      "        (self_attention): MultiHeadAttentionLayer(\n",
      "          (fc_q): Linear(in_features=128, out_features=128, bias=True)\n",
      "          (fc_k): Linear(in_features=128, out_features=128, bias=True)\n",
      "          (fc_v): Linear(in_features=128, out_features=128, bias=True)\n",
      "          (fc_o): Linear(in_features=128, out_features=128, bias=True)\n",
      "          (dropout): Dropout(p=0.1, inplace=False)\n",
      "        )\n",
      "        (encoder_attention): MultiHeadAttentionLayer(\n",
      "          (fc_q): Linear(in_features=128, out_features=128, bias=True)\n",
      "          (fc_k): Linear(in_features=128, out_features=128, bias=True)\n",
      "          (fc_v): Linear(in_features=128, out_features=128, bias=True)\n",
      "          (fc_o): Linear(in_features=128, out_features=128, bias=True)\n",
      "          (dropout): Dropout(p=0.1, inplace=False)\n",
      "        )\n",
      "        (positionwise_feedforward): PositionwiseFeedforwardLayer(\n",
      "          (fc_1): Linear(in_features=128, out_features=384, bias=True)\n",
      "          (fc_2): Linear(in_features=384, out_features=128, bias=True)\n",
      "          (dropout): Dropout(p=0.1, inplace=False)\n",
      "        )\n",
      "        (dropout): Dropout(p=0.1, inplace=False)\n",
      "      )\n",
      "      (2): DecoderLayer(\n",
      "        (self_attn_layer_norm): LayerNorm((128,), eps=1e-05, elementwise_affine=True)\n",
      "        (enc_attn_layer_norm): LayerNorm((128,), eps=1e-05, elementwise_affine=True)\n",
      "        (ff_layer_norm): LayerNorm((128,), eps=1e-05, elementwise_affine=True)\n",
      "        (self_attention): MultiHeadAttentionLayer(\n",
      "          (fc_q): Linear(in_features=128, out_features=128, bias=True)\n",
      "          (fc_k): Linear(in_features=128, out_features=128, bias=True)\n",
      "          (fc_v): Linear(in_features=128, out_features=128, bias=True)\n",
      "          (fc_o): Linear(in_features=128, out_features=128, bias=True)\n",
      "          (dropout): Dropout(p=0.1, inplace=False)\n",
      "        )\n",
      "        (encoder_attention): MultiHeadAttentionLayer(\n",
      "          (fc_q): Linear(in_features=128, out_features=128, bias=True)\n",
      "          (fc_k): Linear(in_features=128, out_features=128, bias=True)\n",
      "          (fc_v): Linear(in_features=128, out_features=128, bias=True)\n",
      "          (fc_o): Linear(in_features=128, out_features=128, bias=True)\n",
      "          (dropout): Dropout(p=0.1, inplace=False)\n",
      "        )\n",
      "        (positionwise_feedforward): PositionwiseFeedforwardLayer(\n",
      "          (fc_1): Linear(in_features=128, out_features=384, bias=True)\n",
      "          (fc_2): Linear(in_features=384, out_features=128, bias=True)\n",
      "          (dropout): Dropout(p=0.1, inplace=False)\n",
      "        )\n",
      "        (dropout): Dropout(p=0.1, inplace=False)\n",
      "      )\n",
      "      (3): DecoderLayer(\n",
      "        (self_attn_layer_norm): LayerNorm((128,), eps=1e-05, elementwise_affine=True)\n",
      "        (enc_attn_layer_norm): LayerNorm((128,), eps=1e-05, elementwise_affine=True)\n",
      "        (ff_layer_norm): LayerNorm((128,), eps=1e-05, elementwise_affine=True)\n",
      "        (self_attention): MultiHeadAttentionLayer(\n",
      "          (fc_q): Linear(in_features=128, out_features=128, bias=True)\n",
      "          (fc_k): Linear(in_features=128, out_features=128, bias=True)\n",
      "          (fc_v): Linear(in_features=128, out_features=128, bias=True)\n",
      "          (fc_o): Linear(in_features=128, out_features=128, bias=True)\n",
      "          (dropout): Dropout(p=0.1, inplace=False)\n",
      "        )\n",
      "        (encoder_attention): MultiHeadAttentionLayer(\n",
      "          (fc_q): Linear(in_features=128, out_features=128, bias=True)\n",
      "          (fc_k): Linear(in_features=128, out_features=128, bias=True)\n",
      "          (fc_v): Linear(in_features=128, out_features=128, bias=True)\n",
      "          (fc_o): Linear(in_features=128, out_features=128, bias=True)\n",
      "          (dropout): Dropout(p=0.1, inplace=False)\n",
      "        )\n",
      "        (positionwise_feedforward): PositionwiseFeedforwardLayer(\n",
      "          (fc_1): Linear(in_features=128, out_features=384, bias=True)\n",
      "          (fc_2): Linear(in_features=384, out_features=128, bias=True)\n",
      "          (dropout): Dropout(p=0.1, inplace=False)\n",
      "        )\n",
      "        (dropout): Dropout(p=0.1, inplace=False)\n",
      "      )\n",
      "    )\n",
      "    (fc_out): Linear(in_features=128, out_features=22, bias=True)\n",
      "    (dropout): Dropout(p=0.1, inplace=False)\n",
      "  )\n",
      ")\n"
     ]
    }
   ]
  },
  {
   "cell_type": "markdown",
   "metadata": {
    "id": "Zcv9CefYbvQf"
   },
   "source": [
    "### Training process along with best-model caching"
   ]
  },
  {
   "cell_type": "code",
   "execution_count": null,
   "metadata": {
    "scrolled": true,
    "id": "Ujh259JjbvQf",
    "colab": {
     "base_uri": "https://localhost:8080/"
    },
    "executionInfo": {
     "status": "ok",
     "timestamp": 1664280662773,
     "user_tz": -60,
     "elapsed": 3813,
     "user": {
      "displayName": "MIRCO RAMO",
      "userId": "02615844185003710625"
     }
    },
    "outputId": "a94d06e6-ae29-4b8a-91fb-492c73f64e98",
    "pycharm": {
     "is_executing": true
    }
   },
   "outputs": [],
   "source": [
    "model.decoder.apply(initialize_weights)\n",
    "model.train_loop(resume=False,\n",
    "                 train_set=train_set,\n",
    "                 valid_set=valid_set)"
   ]
  },
  {
   "cell_type": "markdown",
   "metadata": {
    "id": "BDW8kIJ6bvQg"
   },
   "source": [
    "### Plot Training  Logs"
   ]
  },
  {
   "cell_type": "code",
   "execution_count": null,
   "metadata": {
    "id": "YStBmrn4bvQg",
    "outputId": "9591ebe5-f8ea-4316-c94d-9c3ba5d143b0",
    "colab": {
     "base_uri": "https://localhost:8080/",
     "height": 444
    },
    "executionInfo": {
     "status": "ok",
     "timestamp": 1664280665075,
     "user_tz": -60,
     "elapsed": 981,
     "user": {
      "displayName": "MIRCO RAMO",
      "userId": "02615844185003710625"
     }
    }
   },
   "outputs": [
    {
     "output_type": "display_data",
     "data": {
      "text/plain": [
       "<Figure size 648x504 with 1 Axes>"
      ],
      "image/png": "[encoded data removed]"
     },
     "metadata": {
      "needs_background": "light"
     }
    }
   ],
   "source": [
    "model.plot_training()"
   ]
  }
 ]
}
