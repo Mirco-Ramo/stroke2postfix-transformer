{
 "nbformat": 4,
 "nbformat_minor": 0,
 "metadata": {
  "colab": {
   "provenance": [],
   "collapsed_sections": [
    "sT7A3J1_bvQe",
    "dIvZRVZ4bvQe",
    "54j31ICtbvQf",
    "q_43amFwbvQf",
    "Zcv9CefYbvQf",
    "BDW8kIJ6bvQg",
    "lOIDuW2RbvQg",
    "LG3ylmcgbvQg",
    "JvEA9XKkbvQh",
    "jIovyUUsbvQk"
   ],
   "authorship_tag": "ABX9TyMhQ8A9ADWvA7FKdTvzOHyc"
  },
  "kernelspec": {
   "name": "python3",
   "display_name": "Python 3"
  },
  "language_info": {
   "name": "python"
  },
  "gpuClass": "standard"
 },
 "cells": [
  {
   "cell_type": "code",
   "execution_count": null,
   "metadata": {
    "id": "8O1t-Cx8bvQI"
   },
   "outputs": [],
   "source": [
    "import os\n",
    "import sys\n",
    "import random\n",
    "import warnings\n",
    "import torch\n",
    "\n",
    "from pathlib import Path\n",
    "from IPython.display import SVG, display\n",
    "from IPython.core.display import HTML\n",
    "\n",
    "from torch.utils.data import DataLoader"
   ]
  },
  {
   "cell_type": "markdown",
   "metadata": {
    "id": "80xE4wAKbvQR"
   },
   "source": [
    "### Enable Hot Reload"
   ]
  },
  {
   "cell_type": "code",
   "execution_count": null,
   "metadata": {
    "id": "Snik4oyubvQS"
   },
   "outputs": [],
   "source": [
    "%load_ext autoreload\n",
    "%autoreload 2"
   ]
  },
  {
   "cell_type": "markdown",
   "metadata": {
    "id": "J2sSP8WcbvQT"
   },
   "source": [
    "### Edit Python path\n",
    "Add the `models` directory to Python's `path`."
   ]
  },
  {
   "cell_type": "code",
   "execution_count": null,
   "metadata": {
    "id": "5HB7xdGfbvQU",
    "colab": {
     "base_uri": "https://localhost:8080/"
    },
    "executionInfo": {
     "status": "ok",
     "timestamp": 1664288045933,
     "user_tz": -60,
     "elapsed": 8,
     "user": {
      "displayName": "MIRCO RAMO",
      "userId": "02615844185003710625"
     }
    },
    "outputId": "69d53119-48a4-43bc-a3e7-7c5a0e3b7ebd"
   },
   "outputs": [
    {
     "output_type": "stream",
     "name": "stdout",
     "text": [
      "/content/drive/Shareddrives/OnlineProject/Handwritten_arithmetic\n"
     ]
    }
   ],
   "source": [
    "b_paths = [os.path.abspath(os.path.join('..', '..')), os.path.abspath(os.path.join('..')), os.path.abspath(os.path.join('..', 'scripts'))]\n",
    "for b_path in b_paths:\n",
    "    if b_path not in sys.path:\n",
    "        sys.path.append(b_path)\n",
    "\n",
    "BASE_DIR = Path(os.getcwd()).parent.parent.resolve()\n",
    "%cd $BASE_DIR"
   ]
  },
  {
   "cell_type": "markdown",
   "metadata": {
    "id": "G7WUHBU1bvQU"
   },
   "source": [
    "### Ignore Warnings"
   ]
  },
  {
   "cell_type": "code",
   "execution_count": null,
   "metadata": {
    "id": "kD9Z8SHDbvQV",
    "colab": {
     "base_uri": "https://localhost:8080/",
     "height": 17
    },
    "executionInfo": {
     "status": "ok",
     "timestamp": 1664288045934,
     "user_tz": -60,
     "elapsed": 8,
     "user": {
      "displayName": "MIRCO RAMO",
      "userId": "02615844185003710625"
     }
    },
    "outputId": "ed79a40c-75bc-4c70-9d24-e2123945dec0"
   },
   "outputs": [
    {
     "output_type": "display_data",
     "data": {
      "text/plain": [
       "<IPython.core.display.HTML object>"
      ],
      "text/html": [
       "<style>.container {width:80% !important;}</style>"
      ]
     },
     "metadata": {}
    }
   ],
   "source": [
    "warnings.filterwarnings('ignore')\n",
    "display(HTML(\"<style>.container {width:80% !important;}</style>\"))"
   ]
  },
  {
   "cell_type": "markdown",
   "metadata": {
    "id": "er4sQYhSbvQW"
   },
   "source": [
    "### Import Helpers"
   ]
  },
  {
   "cell_type": "code",
   "execution_count": null,
   "metadata": {
    "id": "1HlPqaGlbvQX",
    "executionInfo": {
     "status": "ok",
     "timestamp": 1664288068199,
     "user_tz": -60,
     "elapsed": 22271,
     "user": {
      "displayName": "MIRCO RAMO",
      "userId": "02615844185003710625"
     }
    },
    "colab": {
     "base_uri": "https://localhost:8080/"
    },
    "outputId": "123bf21f-57fb-4c7e-ddb1-db285e1f7cce"
   },
   "outputs": [
    {
     "output_type": "stream",
     "name": "stderr",
     "text": [
      "WARNING:root:TensorFlow version 2.8.2 has not been tested with coremltools. You may run into unexpected errors. TensorFlow 2.8.0 is the most recent version that has been tested.\n"
     ]
    }
   ],
   "source": [
    "from models.scripts.transformer.ExprTree_model import model_builder, pad_collate_fn\n",
    "from models.scripts.transformer.utils import strokes_to_svg, build_vocab, tensor_to_word, preprocess_dataset, seed_all, initialize_weights\n",
    "from models.scripts.generate_arithmetic_sequences import SequenceGenerator"
   ]
  },
  {
   "cell_type": "markdown",
   "metadata": {
    "id": "Cocc4NNgbvQY"
   },
   "source": [
    "### Configuration Settings"
   ]
  },
  {
   "cell_type": "code",
   "execution_count": null,
   "metadata": {
    "id": "nAkwfkkgbvQY"
   },
   "outputs": [],
   "source": [
    "VERSION = \"v4\"\n",
    "SEED = 2021\n",
    "BATCH_SIZE = 256"
   ]
  },
  {
   "cell_type": "code",
   "execution_count": null,
   "metadata": {
    "id": "EdAaq7fdbvQZ"
   },
   "outputs": [],
   "source": [
    "seed_all(SEED) # Reproducibility"
   ]
  },
  {
   "cell_type": "markdown",
   "metadata": {
    "id": "EzDA6R8nbvQZ"
   },
   "source": [
    "### Create Vocabulary"
   ]
  },
  {
   "cell_type": "code",
   "execution_count": null,
   "metadata": {
    "id": "Dz6OIlHKbvQZ"
   },
   "outputs": [],
   "source": [
    "DIGITS = ['0', '1', '2', '3', '4', '5', '6', '7', '8', '9']\n",
    "OPERATORS = ['+', '-', '*', '/']\n",
    "DECIMAL_NOTATION = ['.']\n",
    "BRACKETS = ['(', ')']\n",
    "EQUAL_SIGN = ['=']\n",
    "nums = DIGITS + OPERATORS + DECIMAL_NOTATION + BRACKETS + EQUAL_SIGN  #train labels"
   ]
  },
  {
   "cell_type": "code",
   "execution_count": null,
   "metadata": {
    "id": "oYcb0QzxbvQa",
    "colab": {
     "base_uri": "https://localhost:8080/"
    },
    "executionInfo": {
     "status": "ok",
     "timestamp": 1664288069038,
     "user_tz": -60,
     "elapsed": 312,
     "user": {
      "displayName": "MIRCO RAMO",
      "userId": "02615844185003710625"
     }
    },
    "outputId": "629e395c-5b06-40c8-cb8b-d376ee19c3b4"
   },
   "outputs": [
    {
     "output_type": "stream",
     "name": "stdout",
     "text": [
      "Number of Tokens: 22\n",
      "\n",
      "Counter({'0': 1, '1': 1, '2': 1, '3': 1, '4': 1, '5': 1, '6': 1, '7': 1, '8': 1, '9': 1, '+': 1, '-': 1, '*': 1, '/': 1, '.': 1, '(': 1, ')': 1, '=': 1}) \n",
      "\n",
      "{'<unk>': 0, '<pad>': 1, '<bos>': 2, '<eos>': 3, '(': 4, ')': 5, '*': 6, '+': 7, '-': 8, '.': 9, '/': 10, '0': 11, '1': 12, '2': 13, '3': 14, '4': 15, '5': 16, '6': 17, '7': 18, '8': 19, '9': 20, '=': 21}\n"
     ]
    }
   ],
   "source": [
    "VOCAB = build_vocab(nums)\n",
    "\n",
    "N_TOKENS = len(VOCAB)\n",
    "PAD_IDX = VOCAB['<pad>']\n",
    "BOS_IDX = VOCAB['<bos>']\n",
    "EOS_IDX = VOCAB['<eos>']\n",
    "\n",
    "print(f\"Number of Tokens: {N_TOKENS}\\n\")\n",
    "print(VOCAB.freqs, \"\\n\") # Distribution\n",
    "print({VOCAB.itos[i]: i for i in range(N_TOKENS)}) # Token order"
   ]
  },
  {
   "cell_type": "markdown",
   "metadata": {
    "id": "oU1P_gmybvQb"
   },
   "source": [
    "### Generate Datasets"
   ]
  },
  {
   "cell_type": "code",
   "execution_count": null,
   "metadata": {
    "scrolled": true,
    "id": "4v3dlLMwbvQb",
    "colab": {
     "base_uri": "https://localhost:8080/"
    },
    "executionInfo": {
     "status": "ok",
     "timestamp": 1664288069866,
     "user_tz": -60,
     "elapsed": 830,
     "user": {
      "displayName": "MIRCO RAMO",
      "userId": "02615844185003710625"
     }
    },
    "outputId": "e2b2ead9-2ce4-4349-c202-5d80d3b1b43f"
   },
   "outputs": [
    {
     "output_type": "stream",
     "name": "stdout",
     "text": [
      "Using cached dataset file in cache/expressions_cache/expressions_120k_ub.h5\n"
     ]
    }
   ],
   "source": [
    "d_gen = SequenceGenerator(\n",
    "        vocab = VOCAB,\n",
    "        allow_brackets = True,\n",
    "        save_mode = 'unsolved',      # saves expressions themselves as labels\n",
    "        total_expressions = 120 * 1000  #final number of expressions is this*augmentation amount\n",
    "      )\n",
    "use_cache = True\n",
    "\n",
    "if use_cache: # Generate from cache file\n",
    "    train, valid, test = d_gen.generate_from_cache()\n",
    "\n",
    "else: # Generate from scratch and cache (if regenerated, results could change)\n",
    "    train, valid, test = d_gen.generate()"
   ]
  },
  {
   "cell_type": "markdown",
   "metadata": {
    "id": "SZGUQxg0bvQc"
   },
   "source": [
    "### Create Dataset for PyTorch"
   ]
  },
  {
   "cell_type": "code",
   "execution_count": null,
   "metadata": {
    "id": "_RnUcaQXbvQc",
    "colab": {
     "base_uri": "https://localhost:8080/"
    },
    "executionInfo": {
     "status": "ok",
     "timestamp": 1662121543362,
     "user_tz": -120,
     "elapsed": 72561,
     "user": {
      "displayName": "MIRCO RAMO",
      "userId": "02615844185003710625"
     }
    },
    "outputId": "96d341cb-c9c4-42cb-86e4-29cc27922efa",
    "pycharm": {
     "is_executing": true
    }
   },
   "outputs": [],
   "source": [
    "preprocessed_train = preprocess_dataset(train, VOCAB,  os.path.join(d_gen.fname, \"train.pt\"))\n",
    "preprocessed_valid = preprocess_dataset(valid, VOCAB,  os.path.join(d_gen.fname, \"valid.pt\"))"
   ]
  },
  {
   "cell_type": "code",
   "source": [
    "train_set = DataLoader(preprocessed_train, batch_size=BATCH_SIZE, shuffle=True, collate_fn=pad_collate_fn)\n",
    "valid_set = DataLoader(preprocessed_valid, batch_size=BATCH_SIZE, shuffle=False, collate_fn=pad_collate_fn)"
   ],
   "metadata": {
    "id": "S3KZ5ZtIcdtp"
   },
   "execution_count": null,
   "outputs": []
  },
  {
   "cell_type": "markdown",
   "metadata": {
    "id": "nroj8HI2bvQd"
   },
   "source": [
    "### Inspect Generated Data"
   ]
  },
  {
   "cell_type": "code",
   "execution_count": null,
   "metadata": {
    "scrolled": false,
    "tags": [],
    "id": "2qPjagltbvQd",
    "colab": {
     "base_uri": "https://localhost:8080/",
     "height": 1000
    },
    "executionInfo": {
     "status": "ok",
     "timestamp": 1662121544736,
     "user_tz": -120,
     "elapsed": 558,
     "user": {
      "displayName": "MIRCO RAMO",
      "userId": "02615844185003710625"
     }
    },
    "outputId": "981be118-9877-41f7-c7c6-f736d699b8e5",
    "pycharm": {
     "is_executing": true
    }
   },
   "outputs": [],
   "source": [
    "# Get random index\n",
    "x_dummy, y_dummy = next(iter(valid_set)) # Create dummy for visualization\n",
    "ind = random.choice(range(y_dummy.shape[0]))\n",
    "print(\"Index:\", ind)\n",
    "\n",
    "# Show actual expr for first tensor\n",
    "print(\" \".join(tensor_to_word(y_dummy[ind], VOCAB)), \"\\n\")\n",
    "\n",
    "# Get length of subplot depending on granularity (exclude bos/eos for strokes)\n",
    "svg_str = strokes_to_svg(x_dummy[ind], {'height':100, 'width':100}, d_gen.padding_value, BOS_IDX, EOS_IDX)\n",
    "display(SVG(data = svg_str))\n",
    "\n",
    "print()\n",
    "print(\"Y Shape:\", y_dummy.shape)\n",
    "print(\"X Shape:\", x_dummy.shape)\n",
    "print()\n",
    "print(f'Y[{ind}]:', y_dummy[ind])\n",
    "print(f'X[{ind}]:', x_dummy[ind])\n",
    "print()\n",
    "print(f'X[{ind}][2]:', x_dummy[ind][2])"
   ]
  },
  {
   "cell_type": "markdown",
   "metadata": {
    "id": "_Y52g6EGbvQd"
   },
   "source": [
    "### Model Hyperparameters/Create Transformer Model"
   ]
  },
  {
   "cell_type": "code",
   "source": [
    "model= model_builder(VERSION, VOCAB, n_tokens=N_TOKENS, encoder='v74-bpe')\n",
    "model.encoder.requires_grad_(False)\n",
    "model.save_hyperparameters_to_json()\n",
    "model.count_parameters()\n",
    "print(f\"Encoder trainable parameters: {sum(p.numel() for p in model.encoder.parameters() if p.requires_grad):,}.\")\n",
    "print(f\"Decoder trainable parameters: {sum(p.numel() for p in model.decoder.parameters() if p.requires_grad):,}.\")\n",
    "print(\"\\n\\n\\n\", model)"
   ],
   "metadata": {
    "id": "0M5bxqk5VX1q"
   },
   "execution_count": null,
   "outputs": []
  },
  {
   "cell_type": "markdown",
   "metadata": {
    "id": "q_43amFwbvQf"
   },
   "source": [
    "### Loss/Optimization configuration"
   ]
  },
  {
   "cell_type": "code",
   "execution_count": null,
   "metadata": {
    "id": "4Xp23ya5bvQf"
   },
   "outputs": [],
   "source": [
    "CLIP = 1\n",
    "# BATCH_N0 = 4\n",
    "NUM_OF_EPOCHS = 8000\n",
    "\n",
    "LEARNING_RATE = 0.0004\n",
    "optimizer = torch.optim.Adam(model.parameters(), lr=LEARNING_RATE)\n",
    "scheduler = torch.optim.lr_scheduler.ExponentialLR(optimizer, gamma=0.98)"
   ]
  },
  {
   "cell_type": "markdown",
   "metadata": {
    "id": "Zcv9CefYbvQf"
   },
   "source": [
    "### Training process along with best-model caching"
   ]
  },
  {
   "cell_type": "code",
   "execution_count": null,
   "metadata": {
    "scrolled": true,
    "id": "Ujh259JjbvQf"
   },
   "outputs": [],
   "source": [
    "model.decoder.apply(initialize_weights)\n",
    "model.train_loop(resume=False,\n",
    "                 train_set=train_set,\n",
    "                 valid_set=valid_set,\n",
    "                 optimizer=optimizer,\n",
    "                 scheduler=scheduler)"
   ]
  },
  {
   "cell_type": "markdown",
   "metadata": {
    "id": "BDW8kIJ6bvQg"
   },
   "source": [
    "### Plot Training  Logs"
   ]
  },
  {
   "cell_type": "code",
   "execution_count": null,
   "metadata": {
    "id": "YStBmrn4bvQg",
    "colab": {
     "base_uri": "https://localhost:8080/",
     "height": 444
    },
    "executionInfo": {
     "status": "ok",
     "timestamp": 1662121547951,
     "user_tz": -120,
     "elapsed": 1795,
     "user": {
      "displayName": "MIRCO RAMO",
      "userId": "02615844185003710625"
     }
    },
    "outputId": "ade9b99f-919c-42fb-8fab-e7789608eb80"
   },
   "outputs": [
    {
     "output_type": "display_data",
     "data": {
      "text/plain": [
       "<Figure size 648x504 with 1 Axes>"
      ],
      "image/png": "[encoded data removed]"
     },
     "metadata": {
      "needs_background": "light"
     }
    }
   ],
   "source": [
    "model.plot_training()"
   ]
  }
 ]
}
