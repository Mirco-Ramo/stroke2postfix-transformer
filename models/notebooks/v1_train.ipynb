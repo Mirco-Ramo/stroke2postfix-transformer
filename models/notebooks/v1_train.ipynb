{
 "nbformat": 4,
 "nbformat_minor": 0,
 "metadata": {
  "colab": {
   "provenance": [],
   "collapsed_sections": [],
   "authorship_tag": "ABX9TyN7/jxsE9d5e4/Vn7L+An+k"
  },
  "kernelspec": {
   "name": "python3",
   "display_name": "Python 3"
  },
  "language_info": {
   "name": "python"
  },
  "gpuClass": "standard"
 },
 "cells": [
  {
   "cell_type": "markdown",
   "source": [
    "# v1 training"
   ],
   "metadata": {
    "collapsed": false
   },
   "execution_count": 1
  },
  {
   "cell_type": "code",
   "execution_count": 1,
   "outputs": [
    {
     "name": "stderr",
     "output_type": "stream",
     "text": [
      "C:\\Users\\mirco\\AppData\\Local\\Temp\\ipykernel_20556\\2922076579.py:9: DeprecationWarning: Importing display from IPython.core.display is deprecated since IPython 7.14, please import from IPython display\n",
      "  from IPython.core.display import display, HTML\n"
     ]
    }
   ],
   "source": [
    "import os\n",
    "import sys\n",
    "import random\n",
    "import warnings\n",
    "\n",
    "from pathlib import Path\n",
    "from IPython.display import SVG, display\n",
    "from IPython.core.display import HTML\n",
    "\n",
    "from torch.utils.data import DataLoader"
   ],
   "metadata": {
    "collapsed": false
   }
  },
  {
   "cell_type": "markdown",
   "metadata": {
    "id": "80xE4wAKbvQR"
   },
   "source": [
    "### Enable Hot Reload"
   ]
  },
  {
   "cell_type": "code",
   "execution_count": 2,
   "metadata": {
    "id": "Snik4oyubvQS"
   },
   "outputs": [],
   "source": [
    "%load_ext autoreload\n",
    "%autoreload 2"
   ]
  },
  {
   "cell_type": "markdown",
   "metadata": {
    "id": "J2sSP8WcbvQT"
   },
   "source": [
    "### Edit Python path\n",
    "Add the `models` directory to Python's `path`."
   ]
  },
  {
   "cell_type": "code",
   "execution_count": 3,
   "metadata": {
    "id": "5HB7xdGfbvQU",
    "colab": {
     "base_uri": "https://localhost:8080/"
    },
    "executionInfo": {
     "status": "ok",
     "timestamp": 1664284595628,
     "user_tz": -60,
     "elapsed": 207,
     "user": {
      "displayName": "MIRCO RAMO",
      "userId": "02615844185003710625"
     }
    },
    "outputId": "10482a15-a222-4f8d-be01-a3cf59d7dc47"
   },
   "outputs": [
    {
     "name": "stdout",
     "output_type": "stream",
     "text": [
      "C:\\Users\\mirco\\PycharmProjects\\stroke2postfix-transformer\\models\\notebooks\n"
     ]
    }
   ],
   "source": [
    "b_paths = [os.path.abspath(os.path.join('..', '..')), os.path.abspath(os.path.join('..')), os.path.abspath(os.path.join('..', 'scripts'))]\n",
    "for b_path in b_paths:\n",
    "    if b_path not in sys.path:\n",
    "        sys.path.append(b_path)\n",
    "\n",
    "BASE_DIR = Path(os.getcwd()).parent.parent.resolve()\n",
    "%cd $BASE_DIR"
   ]
  },
  {
   "cell_type": "markdown",
   "metadata": {
    "id": "G7WUHBU1bvQU"
   },
   "source": [
    "### Ignore Warnings"
   ]
  },
  {
   "cell_type": "code",
   "execution_count": 4,
   "metadata": {
    "id": "kD9Z8SHDbvQV",
    "outputId": "059f0965-1067-4267-eaae-7cd839af2a60",
    "colab": {
     "base_uri": "https://localhost:8080/",
     "height": 17
    },
    "executionInfo": {
     "status": "ok",
     "timestamp": 1664284567838,
     "user_tz": -60,
     "elapsed": 215,
     "user": {
      "displayName": "MIRCO RAMO",
      "userId": "02615844185003710625"
     }
    }
   },
   "outputs": [
    {
     "data": {
      "text/plain": "<IPython.core.display.HTML object>",
      "text/html": "<style>.container {width:80% !important;}</style>"
     },
     "metadata": {},
     "output_type": "display_data"
    }
   ],
   "source": [
    "warnings.filterwarnings('ignore')\n",
    "display(HTML(\"<style>.container {width:80% !important;}</style>\"))"
   ]
  },
  {
   "cell_type": "markdown",
   "metadata": {
    "id": "er4sQYhSbvQW"
   },
   "source": [
    "### Import Helpers"
   ]
  },
  {
   "cell_type": "code",
   "execution_count": null,
   "metadata": {
    "id": "1HlPqaGlbvQX",
    "outputId": "91d61abe-dece-40c4-a21b-723968f3bf74",
    "colab": {
     "base_uri": "https://localhost:8080/"
    },
    "executionInfo": {
     "status": "ok",
     "timestamp": 1664284606393,
     "user_tz": -60,
     "elapsed": 6738,
     "user": {
      "displayName": "MIRCO RAMO",
      "userId": "02615844185003710625"
     }
    },
    "pycharm": {
     "is_executing": true
    }
   },
   "outputs": [],
   "source": [
    "from models.scripts.transformer.ExprTree_model import model_builder, pad_collate_fn\n",
    "from models.scripts.transformer.utils import strokes_to_svg, build_vocab, tensor_to_word, preprocess_dataset, seed_all, initialize_weights\n",
    "from models.scripts.generate_arithmetic_sequences import SequenceGenerator"
   ]
  },
  {
   "cell_type": "markdown",
   "metadata": {
    "id": "Cocc4NNgbvQY"
   },
   "source": [
    "### Configuration Settings"
   ]
  },
  {
   "cell_type": "code",
   "execution_count": null,
   "metadata": {
    "id": "nAkwfkkgbvQY"
   },
   "outputs": [],
   "source": [
    "VERSION = \"v1\"\n",
    "SEED = 2021\n",
    "BATCH_SIZE = 256"
   ]
  },
  {
   "cell_type": "code",
   "execution_count": null,
   "metadata": {
    "id": "EdAaq7fdbvQZ"
   },
   "outputs": [],
   "source": [
    "seed_all(SEED) # Reproducibility"
   ]
  },
  {
   "cell_type": "markdown",
   "metadata": {
    "id": "EzDA6R8nbvQZ"
   },
   "source": [
    "### Create Vocabulary"
   ]
  },
  {
   "cell_type": "code",
   "execution_count": null,
   "metadata": {
    "id": "Dz6OIlHKbvQZ"
   },
   "outputs": [],
   "source": [
    "DIGITS = ['0', '1', '2', '3', '4', '5', '6', '7', '8', '9']\n",
    "OPERATORS = ['+', '-', '*', '/']\n",
    "DECIMAL_NOTATION = ['.']\n",
    "BRACKETS = ['(', ')']\n",
    "EQUAL_SIGN = ['=']\n",
    "nums = DIGITS + OPERATORS + DECIMAL_NOTATION + BRACKETS + EQUAL_SIGN  #train labels"
   ]
  },
  {
   "cell_type": "code",
   "execution_count": null,
   "metadata": {
    "id": "oYcb0QzxbvQa",
    "colab": {
     "base_uri": "https://localhost:8080/"
    },
    "executionInfo": {
     "status": "ok",
     "timestamp": 1664284611638,
     "user_tz": -60,
     "elapsed": 228,
     "user": {
      "displayName": "MIRCO RAMO",
      "userId": "02615844185003710625"
     }
    },
    "outputId": "c1c9c785-7d99-475c-f0c7-d31ea2114e14"
   },
   "outputs": [
    {
     "output_type": "stream",
     "name": "stdout",
     "text": [
      "Number of Tokens: 22\n",
      "\n",
      "Counter({'0': 1, '1': 1, '2': 1, '3': 1, '4': 1, '5': 1, '6': 1, '7': 1, '8': 1, '9': 1, '+': 1, '-': 1, '*': 1, '/': 1, '.': 1, '(': 1, ')': 1, '=': 1}) \n",
      "\n",
      "{'<unk>': 0, '<pad>': 1, '<bos>': 2, '<eos>': 3, '(': 4, ')': 5, '*': 6, '+': 7, '-': 8, '.': 9, '/': 10, '0': 11, '1': 12, '2': 13, '3': 14, '4': 15, '5': 16, '6': 17, '7': 18, '8': 19, '9': 20, '=': 21}\n"
     ]
    }
   ],
   "source": [
    "VOCAB = build_vocab(nums)\n",
    "\n",
    "N_TOKENS = len(VOCAB)\n",
    "PAD_IDX = VOCAB['<pad>']\n",
    "BOS_IDX = VOCAB['<bos>']\n",
    "EOS_IDX = VOCAB['<eos>']\n",
    "\n",
    "print(f\"Number of Tokens: {N_TOKENS}\\n\")\n",
    "print(VOCAB.freqs, \"\\n\") # Distribution\n",
    "print({VOCAB.itos[i]: i for i in range(N_TOKENS)}) # Token order"
   ]
  },
  {
   "cell_type": "code",
   "execution_count": null,
   "metadata": {
    "tags": [],
    "id": "66rCl9-gbvQa",
    "outputId": "a5e29eb7-36de-4438-8db7-c501dbbecd6d",
    "colab": {
     "base_uri": "https://localhost:8080/"
    },
    "executionInfo": {
     "status": "ok",
     "timestamp": 1664284615532,
     "user_tz": -60,
     "elapsed": 218,
     "user": {
      "displayName": "MIRCO RAMO",
      "userId": "02615844185003710625"
     }
    }
   },
   "outputs": [
    {
     "output_type": "stream",
     "name": "stdout",
     "text": [
      "Number of Tokens: 22\n",
      "\n"
     ]
    }
   ],
   "source": [
    "print(f\"Number of Tokens: {N_TOKENS}\\n\")"
   ]
  },
  {
   "cell_type": "markdown",
   "metadata": {
    "id": "oU1P_gmybvQb"
   },
   "source": [
    "### Generate Datasets"
   ]
  },
  {
   "cell_type": "code",
   "execution_count": null,
   "metadata": {
    "scrolled": true,
    "id": "4v3dlLMwbvQb",
    "outputId": "54948cac-c518-4407-ee65-13933da3936b",
    "colab": {
     "base_uri": "https://localhost:8080/"
    },
    "executionInfo": {
     "status": "ok",
     "timestamp": 1664284618541,
     "user_tz": -60,
     "elapsed": 289,
     "user": {
      "displayName": "MIRCO RAMO",
      "userId": "02615844185003710625"
     }
    }
   },
   "outputs": [
    {
     "output_type": "stream",
     "name": "stdout",
     "text": [
      "Using cached dataset file in cache/expressions_cache/expressions_5k_u.h5\n"
     ]
    }
   ],
   "source": [
    "d_gen = SequenceGenerator(\n",
    "        vocab = VOCAB,\n",
    "        allow_brackets = False,\n",
    "        save_mode = 'unsolved',      # saves expressions themselves as labels\n",
    "        total_expressions = 5 * 1000  #final number of expressions is this*augmentation amount\n",
    "      )\n",
    "use_cache = True\n",
    "\n",
    "if use_cache: # Generate from cache file\n",
    "    train, valid, test = d_gen.generate_from_cache()\n",
    "    \n",
    "else: # Generate from scratch and cache (if regenerated, results could change)\n",
    "    train, valid, test = d_gen.generate()"
   ]
  },
  {
   "cell_type": "markdown",
   "metadata": {
    "id": "SZGUQxg0bvQc"
   },
   "source": [
    "### Create Dataset for PyTorch"
   ]
  },
  {
   "cell_type": "code",
   "execution_count": null,
   "metadata": {
    "id": "_RnUcaQXbvQc",
    "outputId": "bcd2382a-7e03-4af8-87ce-c2a72e54bafa",
    "colab": {
     "base_uri": "https://localhost:8080/"
    },
    "executionInfo": {
     "status": "ok",
     "timestamp": 1664284624241,
     "user_tz": -60,
     "elapsed": 2450,
     "user": {
      "displayName": "MIRCO RAMO",
      "userId": "02615844185003710625"
     }
    },
    "pycharm": {
     "is_executing": true
    }
   },
   "outputs": [],
   "source": [
    "preprocessed_train = preprocess_dataset(train, VOCAB,  os.path.join(d_gen.fname, \"train.pt\"))\n",
    "preprocessed_valid = preprocess_dataset(valid, VOCAB,  os.path.join(d_gen.fname, \"valid.pt\"))"
   ]
  },
  {
   "cell_type": "code",
   "source": [
    "train_set = DataLoader(preprocessed_train, batch_size=BATCH_SIZE, shuffle=True, collate_fn=pad_collate_fn)\n",
    "valid_set = DataLoader(preprocessed_valid, batch_size=BATCH_SIZE, shuffle=False, collate_fn=pad_collate_fn)"
   ],
   "metadata": {
    "id": "S3KZ5ZtIcdtp"
   },
   "execution_count": null,
   "outputs": []
  },
  {
   "cell_type": "markdown",
   "metadata": {
    "id": "nroj8HI2bvQd"
   },
   "source": [
    "### Inspect Generated Data"
   ]
  },
  {
   "cell_type": "code",
   "execution_count": null,
   "metadata": {
    "scrolled": false,
    "tags": [],
    "id": "2qPjagltbvQd",
    "outputId": "e34bab11-2772-408e-caef-244f0ce09914",
    "colab": {
     "base_uri": "https://localhost:8080/",
     "height": 1000
    },
    "executionInfo": {
     "status": "ok",
     "timestamp": 1664284625664,
     "user_tz": -60,
     "elapsed": 1081,
     "user": {
      "displayName": "MIRCO RAMO",
      "userId": "02615844185003710625"
     }
    },
    "pycharm": {
     "is_executing": true
    }
   },
   "outputs": [],
   "source": [
    "# Get random index\n",
    "x_dummy, y_dummy = next(iter(valid_set)) # Create dummy for visualization\n",
    "ind = random.choice(range(y_dummy.shape[0]))\n",
    "print(\"Index:\", ind)\n",
    "      \n",
    "# Show actual expr for first tensor\n",
    "print(\" \".join(tensor_to_word(y_dummy[ind], VOCAB)), \"\\n\")\n",
    "\n",
    "# Get length of subplot depending on granularity (exclude bos/eos for strokes)\n",
    "svg_str = strokes_to_svg(x_dummy[ind], {'height':100, 'width':100}, d_gen.padding_value, BOS_IDX, EOS_IDX)\n",
    "display(SVG(data = svg_str))\n",
    "\n",
    "print()\n",
    "print(\"Y Shape:\", y_dummy.shape)\n",
    "print(\"X Shape:\", x_dummy.shape)\n",
    "print()\n",
    "print(f'Y[{ind}]:', y_dummy[ind])\n",
    "print(f'X[{ind}]:', x_dummy[ind])\n",
    "print()\n",
    "print(f'X[{ind}][2]:', x_dummy[ind][2])"
   ]
  },
  {
   "cell_type": "markdown",
   "metadata": {
    "id": "_Y52g6EGbvQd"
   },
   "source": [
    "### Model Hyper-parameters/Create Transformer Model"
   ]
  },
  {
   "cell_type": "code",
   "source": [
    "model= model_builder(VERSION, VOCAB, dec_layers=2, n_tokens=N_TOKENS, encoder='v74-bpe')\n",
    "model.encoder.requires_grad_(False)\n",
    "model.save_hyperparameters_to_json()\n",
    "model.count_parameters()\n",
    "print(f\"Encoder trainable parameters: {sum(p.numel() for p in model.encoder.parameters() if p.requires_grad):,}.\")\n",
    "print(f\"Decoder trainable parameters: {sum(p.numel() for p in model.decoder.parameters() if p.requires_grad):,}.\")\n",
    "print(\"\\n\\n\\n\", model)"
   ],
   "metadata": {
    "colab": {
     "base_uri": "https://localhost:8080/"
    },
    "id": "5faLPT6znNvp",
    "executionInfo": {
     "status": "ok",
     "timestamp": 1664284630640,
     "user_tz": -60,
     "elapsed": 225,
     "user": {
      "displayName": "MIRCO RAMO",
      "userId": "02615844185003710625"
     }
    },
    "outputId": "835a815c-9e10-4a24-90d0-fbad0e0ec95b"
   },
   "execution_count": null,
   "outputs": [
    {
     "output_type": "stream",
     "name": "stdout",
     "text": [
      "The model has 994,326 trainable parameters.\n",
      "Encoder trainable parameters: 523,520.\n",
      "Decoder trainable parameters: 470,806.\n",
      "\n",
      " Transformer(\n",
      "  (encoder): Encoder(\n",
      "    (pos_embedding): Embedding(200, 128)\n",
      "    (layers): ModuleList(\n",
      "      (0): EncoderLayer(\n",
      "        (self_attn_layer_norm): LayerNorm((128,), eps=1e-05, elementwise_affine=True)\n",
      "        (ff_layer_norm): LayerNorm((128,), eps=1e-05, elementwise_affine=True)\n",
      "        (self_attention): MultiHeadAttentionLayer(\n",
      "          (fc_q): Linear(in_features=128, out_features=128, bias=True)\n",
      "          (fc_k): Linear(in_features=128, out_features=128, bias=True)\n",
      "          (fc_v): Linear(in_features=128, out_features=128, bias=True)\n",
      "          (fc_o): Linear(in_features=128, out_features=128, bias=True)\n",
      "          (dropout): Dropout(p=0.1, inplace=False)\n",
      "        )\n",
      "        (positionwise_feedforward): PositionwiseFeedforwardLayer(\n",
      "          (fc_1): Linear(in_features=128, out_features=128, bias=True)\n",
      "          (fc_2): Linear(in_features=128, out_features=128, bias=True)\n",
      "          (dropout): Dropout(p=0.1, inplace=False)\n",
      "        )\n",
      "        (dropout): Dropout(p=0.1, inplace=False)\n",
      "      )\n",
      "      (1): EncoderLayer(\n",
      "        (self_attn_layer_norm): LayerNorm((128,), eps=1e-05, elementwise_affine=True)\n",
      "        (ff_layer_norm): LayerNorm((128,), eps=1e-05, elementwise_affine=True)\n",
      "        (self_attention): MultiHeadAttentionLayer(\n",
      "          (fc_q): Linear(in_features=128, out_features=128, bias=True)\n",
      "          (fc_k): Linear(in_features=128, out_features=128, bias=True)\n",
      "          (fc_v): Linear(in_features=128, out_features=128, bias=True)\n",
      "          (fc_o): Linear(in_features=128, out_features=128, bias=True)\n",
      "          (dropout): Dropout(p=0.1, inplace=False)\n",
      "        )\n",
      "        (positionwise_feedforward): PositionwiseFeedforwardLayer(\n",
      "          (fc_1): Linear(in_features=128, out_features=128, bias=True)\n",
      "          (fc_2): Linear(in_features=128, out_features=128, bias=True)\n",
      "          (dropout): Dropout(p=0.1, inplace=False)\n",
      "        )\n",
      "        (dropout): Dropout(p=0.1, inplace=False)\n",
      "      )\n",
      "      (2): EncoderLayer(\n",
      "        (self_attn_layer_norm): LayerNorm((128,), eps=1e-05, elementwise_affine=True)\n",
      "        (ff_layer_norm): LayerNorm((128,), eps=1e-05, elementwise_affine=True)\n",
      "        (self_attention): MultiHeadAttentionLayer(\n",
      "          (fc_q): Linear(in_features=128, out_features=128, bias=True)\n",
      "          (fc_k): Linear(in_features=128, out_features=128, bias=True)\n",
      "          (fc_v): Linear(in_features=128, out_features=128, bias=True)\n",
      "          (fc_o): Linear(in_features=128, out_features=128, bias=True)\n",
      "          (dropout): Dropout(p=0.1, inplace=False)\n",
      "        )\n",
      "        (positionwise_feedforward): PositionwiseFeedforwardLayer(\n",
      "          (fc_1): Linear(in_features=128, out_features=128, bias=True)\n",
      "          (fc_2): Linear(in_features=128, out_features=128, bias=True)\n",
      "          (dropout): Dropout(p=0.1, inplace=False)\n",
      "        )\n",
      "        (dropout): Dropout(p=0.1, inplace=False)\n",
      "      )\n",
      "      (3): EncoderLayer(\n",
      "        (self_attn_layer_norm): LayerNorm((128,), eps=1e-05, elementwise_affine=True)\n",
      "        (ff_layer_norm): LayerNorm((128,), eps=1e-05, elementwise_affine=True)\n",
      "        (self_attention): MultiHeadAttentionLayer(\n",
      "          (fc_q): Linear(in_features=128, out_features=128, bias=True)\n",
      "          (fc_k): Linear(in_features=128, out_features=128, bias=True)\n",
      "          (fc_v): Linear(in_features=128, out_features=128, bias=True)\n",
      "          (fc_o): Linear(in_features=128, out_features=128, bias=True)\n",
      "          (dropout): Dropout(p=0.1, inplace=False)\n",
      "        )\n",
      "        (positionwise_feedforward): PositionwiseFeedforwardLayer(\n",
      "          (fc_1): Linear(in_features=128, out_features=128, bias=True)\n",
      "          (fc_2): Linear(in_features=128, out_features=128, bias=True)\n",
      "          (dropout): Dropout(p=0.1, inplace=False)\n",
      "        )\n",
      "        (dropout): Dropout(p=0.1, inplace=False)\n",
      "      )\n",
      "      (4): EncoderLayer(\n",
      "        (self_attn_layer_norm): LayerNorm((128,), eps=1e-05, elementwise_affine=True)\n",
      "        (ff_layer_norm): LayerNorm((128,), eps=1e-05, elementwise_affine=True)\n",
      "        (self_attention): MultiHeadAttentionLayer(\n",
      "          (fc_q): Linear(in_features=128, out_features=128, bias=True)\n",
      "          (fc_k): Linear(in_features=128, out_features=128, bias=True)\n",
      "          (fc_v): Linear(in_features=128, out_features=128, bias=True)\n",
      "          (fc_o): Linear(in_features=128, out_features=128, bias=True)\n",
      "          (dropout): Dropout(p=0.1, inplace=False)\n",
      "        )\n",
      "        (positionwise_feedforward): PositionwiseFeedforwardLayer(\n",
      "          (fc_1): Linear(in_features=128, out_features=128, bias=True)\n",
      "          (fc_2): Linear(in_features=128, out_features=128, bias=True)\n",
      "          (dropout): Dropout(p=0.1, inplace=False)\n",
      "        )\n",
      "        (dropout): Dropout(p=0.1, inplace=False)\n",
      "      )\n",
      "    )\n",
      "    (dropout): Dropout(p=0.1, inplace=False)\n",
      "  )\n",
      "  (decoder): Decoder(\n",
      "    (tok_embedding): Embedding(22, 128)\n",
      "    (pos_embedding): Embedding(14, 128)\n",
      "    (layers): ModuleList(\n",
      "      (0): DecoderLayer(\n",
      "        (self_attn_layer_norm): LayerNorm((128,), eps=1e-05, elementwise_affine=True)\n",
      "        (enc_attn_layer_norm): LayerNorm((128,), eps=1e-05, elementwise_affine=True)\n",
      "        (ff_layer_norm): LayerNorm((128,), eps=1e-05, elementwise_affine=True)\n",
      "        (self_attention): MultiHeadAttentionLayer(\n",
      "          (fc_q): Linear(in_features=128, out_features=128, bias=True)\n",
      "          (fc_k): Linear(in_features=128, out_features=128, bias=True)\n",
      "          (fc_v): Linear(in_features=128, out_features=128, bias=True)\n",
      "          (fc_o): Linear(in_features=128, out_features=128, bias=True)\n",
      "          (dropout): Dropout(p=0.1, inplace=False)\n",
      "        )\n",
      "        (encoder_attention): MultiHeadAttentionLayer(\n",
      "          (fc_q): Linear(in_features=128, out_features=128, bias=True)\n",
      "          (fc_k): Linear(in_features=128, out_features=128, bias=True)\n",
      "          (fc_v): Linear(in_features=128, out_features=128, bias=True)\n",
      "          (fc_o): Linear(in_features=128, out_features=128, bias=True)\n",
      "          (dropout): Dropout(p=0.1, inplace=False)\n",
      "        )\n",
      "        (positionwise_feedforward): PositionwiseFeedforwardLayer(\n",
      "          (fc_1): Linear(in_features=128, out_features=384, bias=True)\n",
      "          (fc_2): Linear(in_features=384, out_features=128, bias=True)\n",
      "          (dropout): Dropout(p=0.1, inplace=False)\n",
      "        )\n",
      "        (dropout): Dropout(p=0.1, inplace=False)\n",
      "      )\n",
      "      (1): DecoderLayer(\n",
      "        (self_attn_layer_norm): LayerNorm((128,), eps=1e-05, elementwise_affine=True)\n",
      "        (enc_attn_layer_norm): LayerNorm((128,), eps=1e-05, elementwise_affine=True)\n",
      "        (ff_layer_norm): LayerNorm((128,), eps=1e-05, elementwise_affine=True)\n",
      "        (self_attention): MultiHeadAttentionLayer(\n",
      "          (fc_q): Linear(in_features=128, out_features=128, bias=True)\n",
      "          (fc_k): Linear(in_features=128, out_features=128, bias=True)\n",
      "          (fc_v): Linear(in_features=128, out_features=128, bias=True)\n",
      "          (fc_o): Linear(in_features=128, out_features=128, bias=True)\n",
      "          (dropout): Dropout(p=0.1, inplace=False)\n",
      "        )\n",
      "        (encoder_attention): MultiHeadAttentionLayer(\n",
      "          (fc_q): Linear(in_features=128, out_features=128, bias=True)\n",
      "          (fc_k): Linear(in_features=128, out_features=128, bias=True)\n",
      "          (fc_v): Linear(in_features=128, out_features=128, bias=True)\n",
      "          (fc_o): Linear(in_features=128, out_features=128, bias=True)\n",
      "          (dropout): Dropout(p=0.1, inplace=False)\n",
      "        )\n",
      "        (positionwise_feedforward): PositionwiseFeedforwardLayer(\n",
      "          (fc_1): Linear(in_features=128, out_features=384, bias=True)\n",
      "          (fc_2): Linear(in_features=384, out_features=128, bias=True)\n",
      "          (dropout): Dropout(p=0.1, inplace=False)\n",
      "        )\n",
      "        (dropout): Dropout(p=0.1, inplace=False)\n",
      "      )\n",
      "    )\n",
      "    (fc_out): Linear(in_features=128, out_features=22, bias=True)\n",
      "    (dropout): Dropout(p=0.1, inplace=False)\n",
      "  )\n",
      ")\n"
     ]
    }
   ]
  },
  {
   "cell_type": "markdown",
   "metadata": {
    "id": "Zcv9CefYbvQf"
   },
   "source": [
    "### Training process along with best-model caching"
   ]
  },
  {
   "cell_type": "code",
   "execution_count": null,
   "metadata": {
    "scrolled": true,
    "id": "Ujh259JjbvQf"
   },
   "outputs": [],
   "source": [
    "model.decoder.apply(initialize_weights)\n",
    "model.train_loop(resume=False,\n",
    "                 train_set=train_set,\n",
    "                 valid_set=valid_set)"
   ]
  },
  {
   "cell_type": "markdown",
   "metadata": {
    "id": "BDW8kIJ6bvQg"
   },
   "source": [
    "### Plot Training  Logs"
   ]
  },
  {
   "cell_type": "code",
   "execution_count": null,
   "metadata": {
    "id": "YStBmrn4bvQg",
    "outputId": "1bde1e50-d5e5-4595-feca-282e254276e2",
    "colab": {
     "base_uri": "https://localhost:8080/",
     "height": 444
    },
    "executionInfo": {
     "status": "ok",
     "timestamp": 1664279955057,
     "user_tz": -60,
     "elapsed": 695,
     "user": {
      "displayName": "MIRCO RAMO",
      "userId": "02615844185003710625"
     }
    }
   },
   "outputs": [
    {
     "output_type": "display_data",
     "data": {
      "text/plain": [
       "<Figure size 648x504 with 1 Axes>"
      ],
      "image/png": "[encoded data removed]"
     },
     "metadata": {
      "needs_background": "light"
     }
    }
   ],
   "source": [
    "model.plot_training()"
   ]
  }
 ]
}
