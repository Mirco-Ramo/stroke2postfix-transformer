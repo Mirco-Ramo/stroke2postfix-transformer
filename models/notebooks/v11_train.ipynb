{
 "nbformat": 4,
 "nbformat_minor": 0,
 "metadata": {
  "colab": {
   "provenance": [],
   "authorship_tag": "ABX9TyNO3WCLwh1dMy+9+oNGtaQa"
  },
  "kernelspec": {
   "name": "python3",
   "display_name": "Python 3"
  },
  "language_info": {
   "name": "python"
  },
  "accelerator": "GPU"
 },
 "cells": [
  {
   "cell_type": "code",
   "execution_count": 1,
   "metadata": {
    "id": "8O1t-Cx8bvQI"
   },
   "outputs": [],
   "source": [
    "import os\n",
    "import sys\n",
    "import random\n",
    "import warnings\n",
    "import torch\n",
    "\n",
    "from pathlib import Path\n",
    "from IPython.display import SVG, display\n",
    "from IPython.core.display import HTML\n",
    "\n",
    "from torch.utils.data import DataLoader"
   ]
  },
  {
   "cell_type": "markdown",
   "metadata": {
    "id": "80xE4wAKbvQR"
   },
   "source": [
    "### Enable Hot Reload"
   ]
  },
  {
   "cell_type": "code",
   "execution_count": 2,
   "metadata": {
    "id": "Snik4oyubvQS"
   },
   "outputs": [],
   "source": [
    "%load_ext autoreload\n",
    "%autoreload 2"
   ]
  },
  {
   "cell_type": "markdown",
   "metadata": {
    "id": "J2sSP8WcbvQT"
   },
   "source": [
    "### Edit Python path\n",
    "Add the `models` directory to Python's `path`."
   ]
  },
  {
   "cell_type": "code",
   "execution_count": 3,
   "metadata": {
    "id": "5HB7xdGfbvQU",
    "colab": {
     "base_uri": "https://localhost:8080/"
    },
    "executionInfo": {
     "status": "ok",
     "timestamp": 1663938717036,
     "user_tz": -60,
     "elapsed": 31,
     "user": {
      "displayName": "MIRCO RAMO",
      "userId": "02615844185003710625"
     }
    },
    "outputId": "284b513d-4d87-4ade-938a-12f322054971"
   },
   "outputs": [
    {
     "name": "stdout",
     "output_type": "stream",
     "text": [
      "I:\\My Drive\\master_thesis_experiments\\stroke2postfix-transformer\n"
     ]
    }
   ],
   "source": [
    "b_paths = [os.path.abspath(os.path.join('..', '..')), os.path.abspath(os.path.join('..')), os.path.abspath(os.path.join('..', 'scripts'))]\n",
    "for b_path in b_paths:\n",
    "    if b_path not in sys.path:\n",
    "        sys.path.append(b_path)\n",
    "\n",
    "BASE_DIR = Path(os.getcwd()).parent.parent.resolve()\n",
    "%cd $BASE_DIR"
   ]
  },
  {
   "cell_type": "markdown",
   "metadata": {
    "id": "G7WUHBU1bvQU"
   },
   "source": [
    "### Ignore Warnings"
   ]
  },
  {
   "cell_type": "code",
   "execution_count": 4,
   "metadata": {
    "id": "kD9Z8SHDbvQV",
    "colab": {
     "base_uri": "https://localhost:8080/",
     "height": 17
    },
    "executionInfo": {
     "status": "ok",
     "timestamp": 1663938717037,
     "user_tz": -60,
     "elapsed": 26,
     "user": {
      "displayName": "MIRCO RAMO",
      "userId": "02615844185003710625"
     }
    },
    "outputId": "65c8fd1a-d08a-45ff-c3d7-12cc28fc32d6"
   },
   "outputs": [
    {
     "data": {
      "text/plain": "<IPython.core.display.HTML object>",
      "text/html": "<style>.container {width:80% !important;}</style>"
     },
     "metadata": {},
     "output_type": "display_data"
    }
   ],
   "source": [
    "warnings.filterwarnings('ignore')\n",
    "display(HTML(\"<style>.container {width:80% !important;}</style>\"))"
   ]
  },
  {
   "cell_type": "markdown",
   "metadata": {
    "id": "er4sQYhSbvQW"
   },
   "source": [
    "### Import Helpers"
   ]
  },
  {
   "cell_type": "code",
   "execution_count": 5,
   "metadata": {
    "id": "1HlPqaGlbvQX",
    "executionInfo": {
     "status": "ok",
     "timestamp": 1663938752177,
     "user_tz": -60,
     "elapsed": 35163,
     "user": {
      "displayName": "MIRCO RAMO",
      "userId": "02615844185003710625"
     }
    },
    "colab": {
     "base_uri": "https://localhost:8080/"
    },
    "outputId": "ee93dc13-8e6c-4b2e-d90a-3548278ef115"
   },
   "outputs": [],
   "source": [
    "from models.scripts.transformer.ExprTree_model import model_builder, pad_collate_fn\n",
    "from models.scripts.transformer.utils import strokes_to_svg, build_vocab, tensor_to_word, preprocess_dataset, seed_all, initialize_weights\n",
    "from models.scripts.generate_arithmetic_sequences import SequenceGenerator"
   ]
  },
  {
   "cell_type": "markdown",
   "metadata": {
    "id": "Cocc4NNgbvQY"
   },
   "source": [
    "### Configuration Settings"
   ]
  },
  {
   "cell_type": "code",
   "execution_count": 6,
   "metadata": {
    "id": "nAkwfkkgbvQY"
   },
   "outputs": [],
   "source": [
    "VERSION = \"v11\"\n",
    "SEED = 2021\n",
    "BATCH_SIZE = 256"
   ]
  },
  {
   "cell_type": "code",
   "execution_count": 7,
   "metadata": {
    "id": "EdAaq7fdbvQZ"
   },
   "outputs": [],
   "source": [
    "seed_all(SEED) # Reproducibility"
   ]
  },
  {
   "cell_type": "markdown",
   "metadata": {
    "id": "EzDA6R8nbvQZ"
   },
   "source": [
    "### Create Vocabulary"
   ]
  },
  {
   "cell_type": "code",
   "execution_count": 8,
   "metadata": {
    "id": "Dz6OIlHKbvQZ"
   },
   "outputs": [],
   "source": [
    "DIGITS = ['0', '1', '2', '3', '4', '5', '6', '7', '8', '9']\n",
    "OPERATORS = ['+', '-', '*', '/']\n",
    "DECIMAL_NOTATION = ['.']\n",
    "BRACKETS = ['(', ')']\n",
    "EQUAL_SIGN = ['=']\n",
    "SEPARATOR = [',']\n",
    "nums = DIGITS + OPERATORS + DECIMAL_NOTATION + BRACKETS + EQUAL_SIGN + SEPARATOR  #train labels"
   ]
  },
  {
   "cell_type": "code",
   "execution_count": 9,
   "metadata": {
    "id": "oYcb0QzxbvQa",
    "colab": {
     "base_uri": "https://localhost:8080/"
    },
    "executionInfo": {
     "status": "ok",
     "timestamp": 1663938752181,
     "user_tz": -60,
     "elapsed": 39,
     "user": {
      "displayName": "MIRCO RAMO",
      "userId": "02615844185003710625"
     }
    },
    "outputId": "d588da39-d12c-4671-a029-949853086d7c"
   },
   "outputs": [
    {
     "name": "stdout",
     "output_type": "stream",
     "text": [
      "Number of Tokens: 23\n",
      "\n",
      "Counter({'0': 1, '1': 1, '2': 1, '3': 1, '4': 1, '5': 1, '6': 1, '7': 1, '8': 1, '9': 1, '+': 1, '-': 1, '*': 1, '/': 1, '.': 1, '(': 1, ')': 1, '=': 1, ',': 1}) \n",
      "\n",
      "{'<unk>': 0, '<pad>': 1, '<bos>': 2, '<eos>': 3, '(': 4, ')': 5, '*': 6, '+': 7, ',': 8, '-': 9, '.': 10, '/': 11, '0': 12, '1': 13, '2': 14, '3': 15, '4': 16, '5': 17, '6': 18, '7': 19, '8': 20, '9': 21, '=': 22}\n"
     ]
    }
   ],
   "source": [
    "VOCAB = build_vocab(nums)\n",
    "\n",
    "N_TOKENS = len(VOCAB)\n",
    "PAD_IDX = VOCAB['<pad>']\n",
    "BOS_IDX = VOCAB['<bos>']\n",
    "EOS_IDX = VOCAB['<eos>']\n",
    "\n",
    "print(f\"Number of Tokens: {N_TOKENS}\\n\")\n",
    "print(VOCAB.freqs, \"\\n\") # Distribution\n",
    "print({VOCAB.itos[i]: i for i in range(N_TOKENS)}) # Token order"
   ]
  },
  {
   "cell_type": "markdown",
   "metadata": {
    "id": "oU1P_gmybvQb"
   },
   "source": [
    "### Generate Datasets"
   ]
  },
  {
   "cell_type": "code",
   "execution_count": 10,
   "metadata": {
    "scrolled": true,
    "id": "4v3dlLMwbvQb",
    "colab": {
     "base_uri": "https://localhost:8080/"
    },
    "executionInfo": {
     "status": "ok",
     "timestamp": 1663938755551,
     "user_tz": -60,
     "elapsed": 2800,
     "user": {
      "displayName": "MIRCO RAMO",
      "userId": "02615844185003710625"
     }
    },
    "outputId": "1bc4cf6d-9fb7-42a8-d860-9265a3867868"
   },
   "outputs": [
    {
     "name": "stdout",
     "output_type": "stream",
     "text": [
      "Using cached dataset file in cache\\expressions_cache\\expressions_120k_mb.h5\n"
     ]
    }
   ],
   "source": [
    "d_gen = SequenceGenerator(\n",
    "        vocab = VOCAB,\n",
    "        allow_brackets = True,\n",
    "        save_mode = 'marked_postfix',      # saves expressions in RPN\n",
    "        total_expressions = 120 * 1000  #final number of expressions is this*augmentation amount\n",
    "      )\n",
    "use_cache = True\n",
    "\n",
    "if use_cache: # Generate from cache file\n",
    "    train, valid, test = d_gen.generate_from_cache()\n",
    "\n",
    "else: # Generate from scratch and cache (if regenerated, results could change)\n",
    "    train, valid, test = d_gen.generate()"
   ]
  },
  {
   "cell_type": "markdown",
   "metadata": {
    "id": "SZGUQxg0bvQc"
   },
   "source": [
    "### Create Dataset for PyTorch"
   ]
  },
  {
   "cell_type": "code",
   "execution_count": null,
   "metadata": {
    "id": "_RnUcaQXbvQc",
    "colab": {
     "base_uri": "https://localhost:8080/"
    },
    "executionInfo": {
     "status": "ok",
     "timestamp": 1663938869703,
     "user_tz": -60,
     "elapsed": 114158,
     "user": {
      "displayName": "MIRCO RAMO",
      "userId": "02615844185003710625"
     }
    },
    "outputId": "d953b70a-891b-483b-8114-bfd121b20a74"
   },
   "outputs": [],
   "source": [
    "preprocessed_train = preprocess_dataset(train, VOCAB,  os.path.join(d_gen.fname, \"train.pt\"))\n",
    "preprocessed_valid = preprocess_dataset(valid, VOCAB,  os.path.join(d_gen.fname, \"valid.pt\"))"
   ]
  },
  {
   "cell_type": "code",
   "source": [
    "train_set = DataLoader(preprocessed_train, batch_size=BATCH_SIZE, shuffle=True, collate_fn=pad_collate_fn)\n",
    "valid_set = DataLoader(preprocessed_valid, batch_size=BATCH_SIZE, shuffle=False, collate_fn=pad_collate_fn)"
   ],
   "metadata": {
    "id": "S3KZ5ZtIcdtp"
   },
   "execution_count": null,
   "outputs": []
  },
  {
   "cell_type": "markdown",
   "metadata": {
    "id": "nroj8HI2bvQd"
   },
   "source": [
    "### Inspect Generated Data"
   ]
  },
  {
   "cell_type": "code",
   "execution_count": null,
   "metadata": {
    "scrolled": false,
    "tags": [],
    "id": "2qPjagltbvQd",
    "colab": {
     "base_uri": "https://localhost:8080/",
     "height": 1000
    },
    "executionInfo": {
     "status": "ok",
     "timestamp": 1663938870677,
     "user_tz": -60,
     "elapsed": 980,
     "user": {
      "displayName": "MIRCO RAMO",
      "userId": "02615844185003710625"
     }
    },
    "outputId": "7ee261ba-6694-4aec-e2d0-035c29a85410"
   },
   "outputs": [],
   "source": [
    "# Get random index\n",
    "x_dummy, y_dummy = next(iter(valid_set)) # Create dummy for visualization\n",
    "ind = random.choice(range(y_dummy.shape[0]))\n",
    "print(\"Index:\", ind)\n",
    "\n",
    "# Show actual expr for first tensor\n",
    "print(\" \".join(tensor_to_word(y_dummy[ind], VOCAB)), \"\\n\")\n",
    "\n",
    "# Get length of subplot depending on granularity (exclude bos/eos for strokes)\n",
    "svg_str = strokes_to_svg(x_dummy[ind], {'height':100, 'width':100}, d_gen.padding_value, BOS_IDX, EOS_IDX)\n",
    "display(SVG(data = svg_str))\n",
    "\n",
    "print()\n",
    "print(\"Y Shape:\", y_dummy.shape)\n",
    "print(\"X Shape:\", x_dummy.shape)\n",
    "print()\n",
    "print(f'Y[{ind}]:', y_dummy[ind])\n",
    "print(f'X[{ind}]:', x_dummy[ind])\n",
    "print()\n",
    "print(f'X[{ind}][2]:', x_dummy[ind][2])"
   ]
  },
  {
   "cell_type": "code",
   "execution_count": 12,
   "outputs": [
    {
     "name": "stdout",
     "output_type": "stream",
     "text": [
      "The model has 1,457,943 trainable parameters.\n",
      "Encoder trainable parameters: 523,520.\n",
      "Decoder trainable parameters: 934,423.\n",
      "\n",
      "\n",
      "\n",
      " Transformer(\n",
      "  (encoder): Encoder(\n",
      "    (pos_embedding): Embedding(200, 128)\n",
      "    (layers): ModuleList(\n",
      "      (0): EncoderLayer(\n",
      "        (self_attn_layer_norm): LayerNorm((128,), eps=1e-05, elementwise_affine=True)\n",
      "        (ff_layer_norm): LayerNorm((128,), eps=1e-05, elementwise_affine=True)\n",
      "        (self_attention): MultiHeadAttentionLayer(\n",
      "          (fc_q): Linear(in_features=128, out_features=128, bias=True)\n",
      "          (fc_k): Linear(in_features=128, out_features=128, bias=True)\n",
      "          (fc_v): Linear(in_features=128, out_features=128, bias=True)\n",
      "          (fc_o): Linear(in_features=128, out_features=128, bias=True)\n",
      "          (dropout): Dropout(p=0.1, inplace=False)\n",
      "        )\n",
      "        (positionwise_feedforward): PositionwiseFeedforwardLayer(\n",
      "          (fc_1): Linear(in_features=128, out_features=128, bias=True)\n",
      "          (fc_2): Linear(in_features=128, out_features=128, bias=True)\n",
      "          (dropout): Dropout(p=0.1, inplace=False)\n",
      "        )\n",
      "        (dropout): Dropout(p=0.1, inplace=False)\n",
      "      )\n",
      "      (1): EncoderLayer(\n",
      "        (self_attn_layer_norm): LayerNorm((128,), eps=1e-05, elementwise_affine=True)\n",
      "        (ff_layer_norm): LayerNorm((128,), eps=1e-05, elementwise_affine=True)\n",
      "        (self_attention): MultiHeadAttentionLayer(\n",
      "          (fc_q): Linear(in_features=128, out_features=128, bias=True)\n",
      "          (fc_k): Linear(in_features=128, out_features=128, bias=True)\n",
      "          (fc_v): Linear(in_features=128, out_features=128, bias=True)\n",
      "          (fc_o): Linear(in_features=128, out_features=128, bias=True)\n",
      "          (dropout): Dropout(p=0.1, inplace=False)\n",
      "        )\n",
      "        (positionwise_feedforward): PositionwiseFeedforwardLayer(\n",
      "          (fc_1): Linear(in_features=128, out_features=128, bias=True)\n",
      "          (fc_2): Linear(in_features=128, out_features=128, bias=True)\n",
      "          (dropout): Dropout(p=0.1, inplace=False)\n",
      "        )\n",
      "        (dropout): Dropout(p=0.1, inplace=False)\n",
      "      )\n",
      "      (2): EncoderLayer(\n",
      "        (self_attn_layer_norm): LayerNorm((128,), eps=1e-05, elementwise_affine=True)\n",
      "        (ff_layer_norm): LayerNorm((128,), eps=1e-05, elementwise_affine=True)\n",
      "        (self_attention): MultiHeadAttentionLayer(\n",
      "          (fc_q): Linear(in_features=128, out_features=128, bias=True)\n",
      "          (fc_k): Linear(in_features=128, out_features=128, bias=True)\n",
      "          (fc_v): Linear(in_features=128, out_features=128, bias=True)\n",
      "          (fc_o): Linear(in_features=128, out_features=128, bias=True)\n",
      "          (dropout): Dropout(p=0.1, inplace=False)\n",
      "        )\n",
      "        (positionwise_feedforward): PositionwiseFeedforwardLayer(\n",
      "          (fc_1): Linear(in_features=128, out_features=128, bias=True)\n",
      "          (fc_2): Linear(in_features=128, out_features=128, bias=True)\n",
      "          (dropout): Dropout(p=0.1, inplace=False)\n",
      "        )\n",
      "        (dropout): Dropout(p=0.1, inplace=False)\n",
      "      )\n",
      "      (3): EncoderLayer(\n",
      "        (self_attn_layer_norm): LayerNorm((128,), eps=1e-05, elementwise_affine=True)\n",
      "        (ff_layer_norm): LayerNorm((128,), eps=1e-05, elementwise_affine=True)\n",
      "        (self_attention): MultiHeadAttentionLayer(\n",
      "          (fc_q): Linear(in_features=128, out_features=128, bias=True)\n",
      "          (fc_k): Linear(in_features=128, out_features=128, bias=True)\n",
      "          (fc_v): Linear(in_features=128, out_features=128, bias=True)\n",
      "          (fc_o): Linear(in_features=128, out_features=128, bias=True)\n",
      "          (dropout): Dropout(p=0.1, inplace=False)\n",
      "        )\n",
      "        (positionwise_feedforward): PositionwiseFeedforwardLayer(\n",
      "          (fc_1): Linear(in_features=128, out_features=128, bias=True)\n",
      "          (fc_2): Linear(in_features=128, out_features=128, bias=True)\n",
      "          (dropout): Dropout(p=0.1, inplace=False)\n",
      "        )\n",
      "        (dropout): Dropout(p=0.1, inplace=False)\n",
      "      )\n",
      "      (4): EncoderLayer(\n",
      "        (self_attn_layer_norm): LayerNorm((128,), eps=1e-05, elementwise_affine=True)\n",
      "        (ff_layer_norm): LayerNorm((128,), eps=1e-05, elementwise_affine=True)\n",
      "        (self_attention): MultiHeadAttentionLayer(\n",
      "          (fc_q): Linear(in_features=128, out_features=128, bias=True)\n",
      "          (fc_k): Linear(in_features=128, out_features=128, bias=True)\n",
      "          (fc_v): Linear(in_features=128, out_features=128, bias=True)\n",
      "          (fc_o): Linear(in_features=128, out_features=128, bias=True)\n",
      "          (dropout): Dropout(p=0.1, inplace=False)\n",
      "        )\n",
      "        (positionwise_feedforward): PositionwiseFeedforwardLayer(\n",
      "          (fc_1): Linear(in_features=128, out_features=128, bias=True)\n",
      "          (fc_2): Linear(in_features=128, out_features=128, bias=True)\n",
      "          (dropout): Dropout(p=0.1, inplace=False)\n",
      "        )\n",
      "        (dropout): Dropout(p=0.1, inplace=False)\n",
      "      )\n",
      "    )\n",
      "    (dropout): Dropout(p=0.1, inplace=False)\n",
      "  )\n",
      "  (decoder): Decoder(\n",
      "    (tok_embedding): Embedding(23, 128)\n",
      "    (pos_embedding): Embedding(14, 128)\n",
      "    (layers): ModuleList(\n",
      "      (0): DecoderLayer(\n",
      "        (self_attn_layer_norm): LayerNorm((128,), eps=1e-05, elementwise_affine=True)\n",
      "        (enc_attn_layer_norm): LayerNorm((128,), eps=1e-05, elementwise_affine=True)\n",
      "        (ff_layer_norm): LayerNorm((128,), eps=1e-05, elementwise_affine=True)\n",
      "        (self_attention): MultiHeadAttentionLayer(\n",
      "          (fc_q): Linear(in_features=128, out_features=128, bias=True)\n",
      "          (fc_k): Linear(in_features=128, out_features=128, bias=True)\n",
      "          (fc_v): Linear(in_features=128, out_features=128, bias=True)\n",
      "          (fc_o): Linear(in_features=128, out_features=128, bias=True)\n",
      "          (dropout): Dropout(p=0.1, inplace=False)\n",
      "        )\n",
      "        (encoder_attention): MultiHeadAttentionLayer(\n",
      "          (fc_q): Linear(in_features=128, out_features=128, bias=True)\n",
      "          (fc_k): Linear(in_features=128, out_features=128, bias=True)\n",
      "          (fc_v): Linear(in_features=128, out_features=128, bias=True)\n",
      "          (fc_o): Linear(in_features=128, out_features=128, bias=True)\n",
      "          (dropout): Dropout(p=0.1, inplace=False)\n",
      "        )\n",
      "        (positionwise_feedforward): PositionwiseFeedforwardLayer(\n",
      "          (fc_1): Linear(in_features=128, out_features=384, bias=True)\n",
      "          (fc_2): Linear(in_features=384, out_features=128, bias=True)\n",
      "          (dropout): Dropout(p=0.1, inplace=False)\n",
      "        )\n",
      "        (dropout): Dropout(p=0.1, inplace=False)\n",
      "      )\n",
      "      (1): DecoderLayer(\n",
      "        (self_attn_layer_norm): LayerNorm((128,), eps=1e-05, elementwise_affine=True)\n",
      "        (enc_attn_layer_norm): LayerNorm((128,), eps=1e-05, elementwise_affine=True)\n",
      "        (ff_layer_norm): LayerNorm((128,), eps=1e-05, elementwise_affine=True)\n",
      "        (self_attention): MultiHeadAttentionLayer(\n",
      "          (fc_q): Linear(in_features=128, out_features=128, bias=True)\n",
      "          (fc_k): Linear(in_features=128, out_features=128, bias=True)\n",
      "          (fc_v): Linear(in_features=128, out_features=128, bias=True)\n",
      "          (fc_o): Linear(in_features=128, out_features=128, bias=True)\n",
      "          (dropout): Dropout(p=0.1, inplace=False)\n",
      "        )\n",
      "        (encoder_attention): MultiHeadAttentionLayer(\n",
      "          (fc_q): Linear(in_features=128, out_features=128, bias=True)\n",
      "          (fc_k): Linear(in_features=128, out_features=128, bias=True)\n",
      "          (fc_v): Linear(in_features=128, out_features=128, bias=True)\n",
      "          (fc_o): Linear(in_features=128, out_features=128, bias=True)\n",
      "          (dropout): Dropout(p=0.1, inplace=False)\n",
      "        )\n",
      "        (positionwise_feedforward): PositionwiseFeedforwardLayer(\n",
      "          (fc_1): Linear(in_features=128, out_features=384, bias=True)\n",
      "          (fc_2): Linear(in_features=384, out_features=128, bias=True)\n",
      "          (dropout): Dropout(p=0.1, inplace=False)\n",
      "        )\n",
      "        (dropout): Dropout(p=0.1, inplace=False)\n",
      "      )\n",
      "      (2): DecoderLayer(\n",
      "        (self_attn_layer_norm): LayerNorm((128,), eps=1e-05, elementwise_affine=True)\n",
      "        (enc_attn_layer_norm): LayerNorm((128,), eps=1e-05, elementwise_affine=True)\n",
      "        (ff_layer_norm): LayerNorm((128,), eps=1e-05, elementwise_affine=True)\n",
      "        (self_attention): MultiHeadAttentionLayer(\n",
      "          (fc_q): Linear(in_features=128, out_features=128, bias=True)\n",
      "          (fc_k): Linear(in_features=128, out_features=128, bias=True)\n",
      "          (fc_v): Linear(in_features=128, out_features=128, bias=True)\n",
      "          (fc_o): Linear(in_features=128, out_features=128, bias=True)\n",
      "          (dropout): Dropout(p=0.1, inplace=False)\n",
      "        )\n",
      "        (encoder_attention): MultiHeadAttentionLayer(\n",
      "          (fc_q): Linear(in_features=128, out_features=128, bias=True)\n",
      "          (fc_k): Linear(in_features=128, out_features=128, bias=True)\n",
      "          (fc_v): Linear(in_features=128, out_features=128, bias=True)\n",
      "          (fc_o): Linear(in_features=128, out_features=128, bias=True)\n",
      "          (dropout): Dropout(p=0.1, inplace=False)\n",
      "        )\n",
      "        (positionwise_feedforward): PositionwiseFeedforwardLayer(\n",
      "          (fc_1): Linear(in_features=128, out_features=384, bias=True)\n",
      "          (fc_2): Linear(in_features=384, out_features=128, bias=True)\n",
      "          (dropout): Dropout(p=0.1, inplace=False)\n",
      "        )\n",
      "        (dropout): Dropout(p=0.1, inplace=False)\n",
      "      )\n",
      "      (3): DecoderLayer(\n",
      "        (self_attn_layer_norm): LayerNorm((128,), eps=1e-05, elementwise_affine=True)\n",
      "        (enc_attn_layer_norm): LayerNorm((128,), eps=1e-05, elementwise_affine=True)\n",
      "        (ff_layer_norm): LayerNorm((128,), eps=1e-05, elementwise_affine=True)\n",
      "        (self_attention): MultiHeadAttentionLayer(\n",
      "          (fc_q): Linear(in_features=128, out_features=128, bias=True)\n",
      "          (fc_k): Linear(in_features=128, out_features=128, bias=True)\n",
      "          (fc_v): Linear(in_features=128, out_features=128, bias=True)\n",
      "          (fc_o): Linear(in_features=128, out_features=128, bias=True)\n",
      "          (dropout): Dropout(p=0.1, inplace=False)\n",
      "        )\n",
      "        (encoder_attention): MultiHeadAttentionLayer(\n",
      "          (fc_q): Linear(in_features=128, out_features=128, bias=True)\n",
      "          (fc_k): Linear(in_features=128, out_features=128, bias=True)\n",
      "          (fc_v): Linear(in_features=128, out_features=128, bias=True)\n",
      "          (fc_o): Linear(in_features=128, out_features=128, bias=True)\n",
      "          (dropout): Dropout(p=0.1, inplace=False)\n",
      "        )\n",
      "        (positionwise_feedforward): PositionwiseFeedforwardLayer(\n",
      "          (fc_1): Linear(in_features=128, out_features=384, bias=True)\n",
      "          (fc_2): Linear(in_features=384, out_features=128, bias=True)\n",
      "          (dropout): Dropout(p=0.1, inplace=False)\n",
      "        )\n",
      "        (dropout): Dropout(p=0.1, inplace=False)\n",
      "      )\n",
      "    )\n",
      "    (fc_out): Linear(in_features=128, out_features=23, bias=True)\n",
      "    (dropout): Dropout(p=0.1, inplace=False)\n",
      "  )\n",
      ")\n"
     ]
    }
   ],
   "source": [
    "model= model_builder(name=VERSION, vocab=VOCAB, n_tokens=N_TOKENS, encoder='v74-bpe', decoder='v10')\n",
    "model.save_hyperparameters_to_json()\n",
    "model.count_parameters()\n",
    "print(f\"Encoder trainable parameters: {sum(p.numel() for p in model.encoder.parameters() if p.requires_grad):,}.\")\n",
    "print(f\"Decoder trainable parameters: {sum(p.numel() for p in model.decoder.parameters() if p.requires_grad):,}.\")\n",
    "print(\"\\n\\n\\n\", model)"
   ],
   "metadata": {
    "collapsed": false
   }
  },
  {
   "cell_type": "markdown",
   "metadata": {
    "id": "q_43amFwbvQf"
   },
   "source": [
    "### Loss/Optimization configuration"
   ]
  },
  {
   "cell_type": "code",
   "execution_count": null,
   "metadata": {
    "id": "4Xp23ya5bvQf",
    "colab": {
     "base_uri": "https://localhost:8080/"
    },
    "executionInfo": {
     "status": "ok",
     "timestamp": 1663938935402,
     "user_tz": -60,
     "elapsed": 14,
     "user": {
      "displayName": "MIRCO RAMO",
      "userId": "02615844185003710625"
     }
    },
    "outputId": "1867d99e-c82f-4c97-ef8b-f7ba70c8408f"
   },
   "outputs": [
    {
     "output_type": "stream",
     "name": "stdout",
     "text": [
      "Adjusting learning rate of group 0 to 3.0000e-05.\n"
     ]
    }
   ],
   "source": [
    "CLIP = 1\n",
    "# BATCH_N0 = 4\n",
    "NUM_OF_EPOCHS = 8000\n",
    "\n",
    "LEARNING_RATE =3e-5\n",
    "optimizer = torch.optim.Adam(model.parameters(), lr=LEARNING_RATE)\n",
    "scheduler = torch.optim.lr_scheduler.StepLR(optimizer, step_size=30, gamma=0.5)"
   ]
  },
  {
   "cell_type": "markdown",
   "metadata": {
    "id": "Zcv9CefYbvQf"
   },
   "source": [
    "### Training process along with best-model caching"
   ]
  },
  {
   "cell_type": "code",
   "execution_count": null,
   "metadata": {
    "scrolled": true,
    "id": "Ujh259JjbvQf"
   },
   "outputs": [],
   "source": [
    "model.train_loop(resume=False,\n",
    "                 train_set=train_set,\n",
    "                 valid_set=valid_set,\n",
    "                 optimizer=optimizer,\n",
    "                 scheduler=scheduler)"
   ]
  },
  {
   "cell_type": "markdown",
   "metadata": {
    "id": "BDW8kIJ6bvQg"
   },
   "source": [
    "### Plot Training  Logs"
   ]
  },
  {
   "cell_type": "code",
   "execution_count": null,
   "metadata": {
    "id": "YStBmrn4bvQg",
    "colab": {
     "base_uri": "https://localhost:8080/"
    },
    "executionInfo": {
     "status": "ok",
     "timestamp": 1663836495312,
     "user_tz": -60,
     "elapsed": 1940,
     "user": {
      "displayName": "MIRCO RAMO",
      "userId": "02615844185003710625"
     }
    },
    "outputId": "f0c9dfb5-24b9-4477-f55b-ee1e07a1c50d"
   },
   "outputs": [
    {
     "output_type": "display_data",
     "data": {
      "text/plain": [
       "<Figure size 648x504 with 1 Axes>"
      ],
      "image/png": "[encoded data removed]"
     },
     "metadata": {
      "needs_background": "light"
     }
    }
   ],
   "source": [
    "model.plot_training()"
   ]
  }
 ]
}
